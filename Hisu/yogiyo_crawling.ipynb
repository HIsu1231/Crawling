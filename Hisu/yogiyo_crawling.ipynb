{
 "cells": [
  {
   "cell_type": "code",
   "execution_count": 4,
   "id": "individual-shuttle",
   "metadata": {},
   "outputs": [],
   "source": [
    "import requests\n",
    "from bs4 import BeautifulSoup\n",
    "import time\n",
    "#기본 패키지\n",
    "import re\n",
    "import time\n",
    "import pickle\n",
    "import pandas as pd\n",
    "from tqdm import tqdm\n",
    "from tqdm import trange\n",
    "import warnings\n",
    "warnings.filterwarnings('ignore')\n",
    "\n",
    "#크롤링 패키지\n",
    "import requests\n",
    "from selenium import webdriver\n",
    "\n",
    "headers = {\n",
    "    \"User-Agent\":\"각자의 User-Agent를 넣어주자\",\n",
    "    \"Accept-Language\":\"ko-KR,ko\"\n",
    "    }\n",
    "\n",
    "from selenium import webdriver\n",
    "driver = webdriver.Chrome(\"c:/Users/clfrh/chromedriver_win32/chromedriver.exe\")\n",
    "driver.maximize_window()\n",
    "\n",
    "url = 'https://www.yogiyo.co.kr/'\n",
    "driver.get(url)\n",
    "\n"
   ]
  },
  {
   "cell_type": "code",
   "execution_count": 2,
   "id": "european-cookie",
   "metadata": {},
   "outputs": [],
   "source": [
    "def set_location(location):\n",
    "    print(location+'으로 위치 설정 하는중...')\n",
    "    driver.find_element_by_css_selector('#search > div > form > input').click()\n",
    "    driver.find_element_by_css_selector('#button_search_address > button.btn-search-location-cancel.btn-search-location.btn.btn-default > span').click()\n",
    "    driver.find_element_by_css_selector('#search > div > form > input').send_keys(location)\n",
    "    driver.find_element_by_css_selector('#button_search_address > button.btn.btn-default.ico-pick').click()\n",
    "    time.sleep(2)\n",
    "    print(location+'으로 위치 설정 완료!')"
   ]
  },
  {
   "cell_type": "code",
   "execution_count": 5,
   "id": "gorgeous-particle",
   "metadata": {},
   "outputs": [
    {
     "name": "stdout",
     "output_type": "stream",
     "text": [
      "가톨릭대 성심교정으로 위치 설정 하는중...\n",
      "가톨릭대 성심교정으로 위치 설정 완료!\n"
     ]
    }
   ],
   "source": [
    "set_location('가톨릭대 성심교정')"
   ]
  },
  {
   "cell_type": "code",
   "execution_count": 6,
   "id": "mediterranean-seeking",
   "metadata": {},
   "outputs": [],
   "source": [
    "\n",
    "food_dict = {'프랜차이즈':3, '치킨':4, '피자&양식':5, '중국집':6, \n",
    "             '한식':7, '일식&돈까스':8, '족발&보쌈':9, '야식': 10,\n",
    "             '분식':11, '카페&디저트': 12}\n"
   ]
  },
  {
   "cell_type": "code",
   "execution_count": 7,
   "id": "complete-juvenile",
   "metadata": {},
   "outputs": [],
   "source": [
    "#요기요 카테고리 Element Number Dictionary 정의\n",
    "\n",
    "def go_to_category(category):\n",
    "    print(category + '카테고리 페이지 로드중')\n",
    "    driver.find_element_by_xpath('//*[@id=\"category\"]/ul/li[{}]/span'.format(food_dict.get(category))).click()\n",
    "    time.sleep(3)\n",
    "    print(category+'카테고리 페이지 로드 완료')    "
   ]
  },
  {
   "cell_type": "code",
   "execution_count": 8,
   "id": "satisfactory-lawyer",
   "metadata": {},
   "outputs": [
    {
     "name": "stdout",
     "output_type": "stream",
     "text": [
      "치킨카테고리 페이지 로드중\n",
      "치킨카테고리 페이지 로드 완료\n"
     ]
    }
   ],
   "source": [
    "go_to_category('치킨') "
   ]
  },
  {
   "cell_type": "code",
   "execution_count": 9,
   "id": "medium-professor",
   "metadata": {},
   "outputs": [],
   "source": [
    "def scroll():\n",
    "\n",
    "    prev_height = driver.execute_script(\"return document.body.scrollHeight\")\n",
    "\n",
    "    # 웹페이지 맨 아래까지 무한 스크롤\n",
    "    while True:\n",
    "        # 스크롤을 화면 가장 아래로 내린다\n",
    "        driver.execute_script(\"window.scrollTo(0,document.body.scrollHeight)\")\n",
    "    \n",
    "        # 페이지 로딩 대기\n",
    "        time.sleep(2)\n",
    "\n",
    "        # 현재 문서 높이를 가져와서 저장\n",
    "        curr_height = driver.execute_script(\"return document.body.scrollHeight\")\n",
    "\n",
    "        if(curr_height == prev_height):\n",
    "            break\n",
    "        else:\n",
    "            prev_height = driver.execute_script(\"return document.body.scrollHeight\")"
   ]
  },
  {
   "cell_type": "code",
   "execution_count": 10,
   "id": "eleven-alfred",
   "metadata": {},
   "outputs": [],
   "source": [
    "def get_restaurant_list():\n",
    "    restaurant_list = []\n",
    "    restaurants = driver.find_elements_by_css_selector('#content > div.content.ng-scope > div > div > div.restaurant-list > div.col-sm-6.contract')\n",
    "    print(len(restaurants))\n",
    "    \n",
    "    for restaurant in restaurants:\n",
    "        restaurant_list.append(restaurant.find_element_by_css_selector('div > table > tbody > tr> td:nth-child(2) > div > div.restaurant-name.ng-binding').text)\n",
    "        print(restaurant)\n",
    "    return list(set(restaurant_list))"
   ]
  },
  {
   "cell_type": "code",
   "execution_count": 12,
   "id": "sonic-smith",
   "metadata": {},
   "outputs": [
    {
     "name": "stdout",
     "output_type": "stream",
     "text": [
      "60\n",
      "<selenium.webdriver.remote.webelement.WebElement (session=\"07b05f8898ca3d482dc1d1a258ab8f89\", element=\"9353e6e5-b8ad-4ad6-bd16-66d3000c0f5d\")>\n",
      "<selenium.webdriver.remote.webelement.WebElement (session=\"07b05f8898ca3d482dc1d1a258ab8f89\", element=\"d28a77d4-6f59-4ff8-9bb2-05d2081f8956\")>\n",
      "<selenium.webdriver.remote.webelement.WebElement (session=\"07b05f8898ca3d482dc1d1a258ab8f89\", element=\"084a35de-7958-4c95-b7fd-bd9fac3dd033\")>\n",
      "<selenium.webdriver.remote.webelement.WebElement (session=\"07b05f8898ca3d482dc1d1a258ab8f89\", element=\"217ac0b1-7d8c-4ffc-84b8-1253bc325cc2\")>\n",
      "<selenium.webdriver.remote.webelement.WebElement (session=\"07b05f8898ca3d482dc1d1a258ab8f89\", element=\"7ce45444-e3ca-4659-bd4e-070ec5306e05\")>\n",
      "<selenium.webdriver.remote.webelement.WebElement (session=\"07b05f8898ca3d482dc1d1a258ab8f89\", element=\"139974a3-8060-481a-a8ce-2f32d989faa2\")>\n",
      "<selenium.webdriver.remote.webelement.WebElement (session=\"07b05f8898ca3d482dc1d1a258ab8f89\", element=\"6b5fa892-2584-47e8-bd44-fe5f3baae95e\")>\n",
      "<selenium.webdriver.remote.webelement.WebElement (session=\"07b05f8898ca3d482dc1d1a258ab8f89\", element=\"76b54793-9c17-4eb4-aa8f-d1a7a82fac31\")>\n",
      "<selenium.webdriver.remote.webelement.WebElement (session=\"07b05f8898ca3d482dc1d1a258ab8f89\", element=\"d7ab487e-4b79-45b1-bfd9-3e5bf413e7ab\")>\n",
      "<selenium.webdriver.remote.webelement.WebElement (session=\"07b05f8898ca3d482dc1d1a258ab8f89\", element=\"9a7f3bb5-8535-4d6e-a829-04304b20e365\")>\n",
      "<selenium.webdriver.remote.webelement.WebElement (session=\"07b05f8898ca3d482dc1d1a258ab8f89\", element=\"6cb5148e-94a3-4fe3-b527-b3095ad95cef\")>\n",
      "<selenium.webdriver.remote.webelement.WebElement (session=\"07b05f8898ca3d482dc1d1a258ab8f89\", element=\"eda212d3-5438-4a8c-932a-10b59be84057\")>\n",
      "<selenium.webdriver.remote.webelement.WebElement (session=\"07b05f8898ca3d482dc1d1a258ab8f89\", element=\"5bd4e536-9a00-4811-bb81-f13b484789d4\")>\n",
      "<selenium.webdriver.remote.webelement.WebElement (session=\"07b05f8898ca3d482dc1d1a258ab8f89\", element=\"a37c3144-a77c-41e4-9c9f-b95c5a05b941\")>\n",
      "<selenium.webdriver.remote.webelement.WebElement (session=\"07b05f8898ca3d482dc1d1a258ab8f89\", element=\"b3871645-0e01-4755-bacb-6b5ddcb6e9d6\")>\n",
      "<selenium.webdriver.remote.webelement.WebElement (session=\"07b05f8898ca3d482dc1d1a258ab8f89\", element=\"8de74d11-7b45-46ed-81a0-81d5c612cf39\")>\n",
      "<selenium.webdriver.remote.webelement.WebElement (session=\"07b05f8898ca3d482dc1d1a258ab8f89\", element=\"178c27be-e8da-4f1b-bb0d-22dfebba0ec4\")>\n",
      "<selenium.webdriver.remote.webelement.WebElement (session=\"07b05f8898ca3d482dc1d1a258ab8f89\", element=\"3f0d9ae8-4df8-4f96-8eed-51364010a7ea\")>\n",
      "<selenium.webdriver.remote.webelement.WebElement (session=\"07b05f8898ca3d482dc1d1a258ab8f89\", element=\"de586c75-e9e4-43eb-a905-0850f469eb30\")>\n",
      "<selenium.webdriver.remote.webelement.WebElement (session=\"07b05f8898ca3d482dc1d1a258ab8f89\", element=\"0a054363-1c0f-4730-9479-51341213538d\")>\n",
      "<selenium.webdriver.remote.webelement.WebElement (session=\"07b05f8898ca3d482dc1d1a258ab8f89\", element=\"a126d3c3-32a9-4cff-9906-e30efae55861\")>\n",
      "<selenium.webdriver.remote.webelement.WebElement (session=\"07b05f8898ca3d482dc1d1a258ab8f89\", element=\"652baeb2-83b9-4c3b-adae-7c0b4138c8cd\")>\n",
      "<selenium.webdriver.remote.webelement.WebElement (session=\"07b05f8898ca3d482dc1d1a258ab8f89\", element=\"ed6302c6-7301-4b73-a26d-11e62b254b8a\")>\n",
      "<selenium.webdriver.remote.webelement.WebElement (session=\"07b05f8898ca3d482dc1d1a258ab8f89\", element=\"8ac0fb8b-6751-4a07-a0c4-4cc5817a3493\")>\n",
      "<selenium.webdriver.remote.webelement.WebElement (session=\"07b05f8898ca3d482dc1d1a258ab8f89\", element=\"64cb2095-76ab-4a09-b94a-b78a5c19c037\")>\n",
      "<selenium.webdriver.remote.webelement.WebElement (session=\"07b05f8898ca3d482dc1d1a258ab8f89\", element=\"592bf5aa-4780-4781-9756-3b51fcd80d32\")>\n",
      "<selenium.webdriver.remote.webelement.WebElement (session=\"07b05f8898ca3d482dc1d1a258ab8f89\", element=\"a7ae3370-3cd1-4bb7-a3db-53994728222d\")>\n",
      "<selenium.webdriver.remote.webelement.WebElement (session=\"07b05f8898ca3d482dc1d1a258ab8f89\", element=\"41aa77eb-a1b3-4434-b314-9799da528ce8\")>\n",
      "<selenium.webdriver.remote.webelement.WebElement (session=\"07b05f8898ca3d482dc1d1a258ab8f89\", element=\"4fc6234d-54c8-475d-a723-35d28b178919\")>\n",
      "<selenium.webdriver.remote.webelement.WebElement (session=\"07b05f8898ca3d482dc1d1a258ab8f89\", element=\"ed84aada-e3a0-4b64-b68e-dcc3c267a1dc\")>\n",
      "<selenium.webdriver.remote.webelement.WebElement (session=\"07b05f8898ca3d482dc1d1a258ab8f89\", element=\"77b3f7a1-a3e1-44c9-b496-23cdc2f43ebe\")>\n",
      "<selenium.webdriver.remote.webelement.WebElement (session=\"07b05f8898ca3d482dc1d1a258ab8f89\", element=\"39b85671-4e4d-4ed7-9ed1-32fb97457da4\")>\n",
      "<selenium.webdriver.remote.webelement.WebElement (session=\"07b05f8898ca3d482dc1d1a258ab8f89\", element=\"e71145ff-4954-4bbb-bf50-7995a0f46cce\")>\n",
      "<selenium.webdriver.remote.webelement.WebElement (session=\"07b05f8898ca3d482dc1d1a258ab8f89\", element=\"b920ae41-bbd3-4fe9-9ae6-91bf7cdac371\")>\n",
      "<selenium.webdriver.remote.webelement.WebElement (session=\"07b05f8898ca3d482dc1d1a258ab8f89\", element=\"d1ca9f82-cefa-4dba-bbdc-ce24df341b45\")>\n",
      "<selenium.webdriver.remote.webelement.WebElement (session=\"07b05f8898ca3d482dc1d1a258ab8f89\", element=\"47279e18-34de-407e-973e-e35540bf50df\")>\n",
      "<selenium.webdriver.remote.webelement.WebElement (session=\"07b05f8898ca3d482dc1d1a258ab8f89\", element=\"df567b1b-2314-43e0-9911-038c2c00d688\")>\n",
      "<selenium.webdriver.remote.webelement.WebElement (session=\"07b05f8898ca3d482dc1d1a258ab8f89\", element=\"ad1722bb-1b1c-4807-ac37-b8f9dd0a5963\")>\n",
      "<selenium.webdriver.remote.webelement.WebElement (session=\"07b05f8898ca3d482dc1d1a258ab8f89\", element=\"4b971399-c64a-43e8-a106-dafbe6a4d029\")>\n",
      "<selenium.webdriver.remote.webelement.WebElement (session=\"07b05f8898ca3d482dc1d1a258ab8f89\", element=\"4a136e44-fef6-4ea4-86d8-3d16dc0d6036\")>\n",
      "<selenium.webdriver.remote.webelement.WebElement (session=\"07b05f8898ca3d482dc1d1a258ab8f89\", element=\"dbce65a2-8d5c-47ca-9466-eed5883989f5\")>\n",
      "<selenium.webdriver.remote.webelement.WebElement (session=\"07b05f8898ca3d482dc1d1a258ab8f89\", element=\"b3c896ad-328f-4641-b745-4ce21213832f\")>\n",
      "<selenium.webdriver.remote.webelement.WebElement (session=\"07b05f8898ca3d482dc1d1a258ab8f89\", element=\"b3b921cf-2d08-4b1d-bf28-7f1b054442ed\")>\n",
      "<selenium.webdriver.remote.webelement.WebElement (session=\"07b05f8898ca3d482dc1d1a258ab8f89\", element=\"23a70b92-1a80-4b89-91eb-5f36c0a5b4c3\")>\n",
      "<selenium.webdriver.remote.webelement.WebElement (session=\"07b05f8898ca3d482dc1d1a258ab8f89\", element=\"962c67e3-9fb3-44b1-8e24-472aadb5a3e0\")>\n",
      "<selenium.webdriver.remote.webelement.WebElement (session=\"07b05f8898ca3d482dc1d1a258ab8f89\", element=\"31b2ef2d-944a-426a-bc0b-64d7c72208d7\")>\n",
      "<selenium.webdriver.remote.webelement.WebElement (session=\"07b05f8898ca3d482dc1d1a258ab8f89\", element=\"45c9091b-79b2-4ce9-bc71-1cf21c488f80\")>\n",
      "<selenium.webdriver.remote.webelement.WebElement (session=\"07b05f8898ca3d482dc1d1a258ab8f89\", element=\"a7203c01-96a6-4e6f-8ae5-3f36ed4fb43c\")>\n",
      "<selenium.webdriver.remote.webelement.WebElement (session=\"07b05f8898ca3d482dc1d1a258ab8f89\", element=\"4d8bb0f2-7b85-4743-8209-8a535e3915c3\")>\n",
      "<selenium.webdriver.remote.webelement.WebElement (session=\"07b05f8898ca3d482dc1d1a258ab8f89\", element=\"3ace3f8b-ef86-486e-bc74-7893b23e744f\")>\n",
      "<selenium.webdriver.remote.webelement.WebElement (session=\"07b05f8898ca3d482dc1d1a258ab8f89\", element=\"2d429894-2fa9-4d6e-bb44-9df487310992\")>\n",
      "<selenium.webdriver.remote.webelement.WebElement (session=\"07b05f8898ca3d482dc1d1a258ab8f89\", element=\"884dcf1e-466a-40a2-9e81-103a1652ab47\")>\n",
      "<selenium.webdriver.remote.webelement.WebElement (session=\"07b05f8898ca3d482dc1d1a258ab8f89\", element=\"8da97a91-21b1-4855-8a09-afe1d0ce3cd9\")>\n",
      "<selenium.webdriver.remote.webelement.WebElement (session=\"07b05f8898ca3d482dc1d1a258ab8f89\", element=\"5181448a-2f22-45f4-8888-e8d5d86b12cf\")>\n",
      "<selenium.webdriver.remote.webelement.WebElement (session=\"07b05f8898ca3d482dc1d1a258ab8f89\", element=\"0e75e4bb-a879-43a4-bed5-e3b73e6e705f\")>\n",
      "<selenium.webdriver.remote.webelement.WebElement (session=\"07b05f8898ca3d482dc1d1a258ab8f89\", element=\"d1824f35-26bb-4e5e-abc8-0820ac5ec151\")>\n",
      "<selenium.webdriver.remote.webelement.WebElement (session=\"07b05f8898ca3d482dc1d1a258ab8f89\", element=\"71576526-ee6e-49b3-a1ac-1f86503eb401\")>\n",
      "<selenium.webdriver.remote.webelement.WebElement (session=\"07b05f8898ca3d482dc1d1a258ab8f89\", element=\"54788cf6-ef1d-4bfc-a904-a7740d1fcde8\")>\n"
     ]
    },
    {
     "name": "stdout",
     "output_type": "stream",
     "text": [
      "<selenium.webdriver.remote.webelement.WebElement (session=\"07b05f8898ca3d482dc1d1a258ab8f89\", element=\"c79caa9d-5363-4c79-a871-cbb26e01a84a\")>\n",
      "<selenium.webdriver.remote.webelement.WebElement (session=\"07b05f8898ca3d482dc1d1a258ab8f89\", element=\"5d171ecc-704e-4d15-938d-69763b3c5422\")>\n"
     ]
    }
   ],
   "source": [
    "restaurant_list = get_restaurant_list()"
   ]
  },
  {
   "cell_type": "code",
   "execution_count": 13,
   "id": "regulation-association",
   "metadata": {
    "scrolled": true
   },
   "outputs": [
    {
     "data": {
      "text/plain": [
       "['텐퍼센트커피-부천역점',\n",
       " '파파존스피자-역곡점',\n",
       " '호치킨-괴안점',\n",
       " '피제이피자-부천역점',\n",
       " '처갓집양념치킨-역곡점',\n",
       " '쫄면주는삼겹본능-부천옥길점',\n",
       " '피자에땅-소사점',\n",
       " '치킨플러스-역곡가톨릭대점',\n",
       " 'BHC-역곡점',\n",
       " '코리엔탈깻잎두마리치킨-소사본동점',\n",
       " '웅이네오돌뼈닭발도-소사범안점',\n",
       " '빅스타피자-부천점',\n",
       " '후라이드참잘하는집-역곡소사점',\n",
       " '3가지맛투존치킨-역곡소사점',\n",
       " '놀부부대찌개-부천옥길점',\n",
       " '버거앤프라이즈-부천범박점',\n",
       " '배달삼겹직구삼-범박점',\n",
       " '롯데리아-역곡역점',\n",
       " '멕시카나-범박점',\n",
       " '페리카나-역곡1점',\n",
       " '롯데리아-부천역점',\n",
       " '큰맘할매순대국-역곡북부역점',\n",
       " '호식이두마리치킨-심곡본동점',\n",
       " '두마리찜닭두찜-부천소사점',\n",
       " '버거킹-부천북부역점',\n",
       " '동대문엽기떡볶이-역곡점',\n",
       " 'BHC-심곡본동점',\n",
       " '뽕뜨락피자-괴안점',\n",
       " '놀부보쌈-부천옥길점',\n",
       " '호식이두마리치킨-오류1호점',\n",
       " '감탄떡볶이-옥길점',\n",
       " '교촌치킨-역곡2동점',\n",
       " '임영웅의티바두마리-괴안점',\n",
       " '반올림피자샵-부천소사역곡점',\n",
       " '노랑통닭-부천역점',\n",
       " '맥도날드-부천역곡역DT점',\n",
       " '네네치킨-심곡북부점',\n",
       " '부어치킨-부천역곡역점',\n",
       " '멕시카나-부천북부점',\n",
       " '뚜레쥬르-역곡역남부점',\n",
       " '도미노피자-소사역곡점',\n",
       " 'BBQ치킨앤비어-역곡역점',\n",
       " '7번가피자-범박점',\n",
       " '또봉이통닭-부천괴안점',\n",
       " '피자알볼로-범박점',\n",
       " '원할머니보쌈-부천역곡점',\n",
       " '이삭토스트-부천역점',\n",
       " '세븐일레븐-부천역곡본점',\n",
       " '롯데리아-부천범박점',\n",
       " '호식이두마리치킨-역곡점',\n",
       " '아웃백-부천중동점',\n",
       " '미스터피자-역곡점',\n",
       " '자담치킨-부천소사본점',\n",
       " '빙달-부천점',\n",
       " '피자헛-소사점']"
      ]
     },
     "execution_count": 13,
     "metadata": {},
     "output_type": "execute_result"
    }
   ],
   "source": [
    "restaurant_list"
   ]
  },
  {
   "cell_type": "code",
   "execution_count": 14,
   "id": "identified-rebel",
   "metadata": {},
   "outputs": [],
   "source": [
    "def search_restaurant(restaurant_name):\n",
    "    try:\n",
    "        driver.find_element_by_xpath('//*[@id=\"category\"]/ul/li[1]/a').click()\n",
    "        print('1')\n",
    "        driver.find_element_by_xpath('//*[@id=\"category\"]/ul/li[15]/form/div/input').send_keys(restaurant_name)\n",
    "        print('1')\n",
    "        driver.find_element_by_xpath('//*[@id=\"category_search_button\"]').click()\n",
    "    except Exception as e:\n",
    "        print('search_restaurant 에러')\n",
    "    time.sleep(5)"
   ]
  },
  {
   "cell_type": "code",
   "execution_count": 16,
   "id": "clear-clerk",
   "metadata": {},
   "outputs": [
    {
     "name": "stdout",
     "output_type": "stream",
     "text": [
      "1\n",
      "1\n"
     ]
    }
   ],
   "source": [
    "search_restaurant(restaurant_list[0])"
   ]
  },
  {
   "cell_type": "code",
   "execution_count": 17,
   "id": "cheap-cricket",
   "metadata": {},
   "outputs": [],
   "source": [
    "def go_to_restaurant():\n",
    "    try:\n",
    "        driver.find_element_by_xpath('//*[@id=\"content\"]/div/div[5]/div/div/div').click()\n",
    "    except Exception as e:\n",
    "        print('go_to_restaurant 에러')\n",
    "    time.sleep(5)"
   ]
  },
  {
   "cell_type": "code",
   "execution_count": 18,
   "id": "tutorial-intermediate",
   "metadata": {},
   "outputs": [],
   "source": [
    "go_to_restaurant()"
   ]
  },
  {
   "cell_type": "code",
   "execution_count": 19,
   "id": "prerequisite-civilization",
   "metadata": {},
   "outputs": [],
   "source": [
    "def go_to_review():\n",
    "    print('리뷰 페이지 로드중...')\n",
    "    driver.find_element_by_xpath('//*[@id=\"content\"]/div[2]/div[1]/ul/li[2]/a').click()\n",
    "    time.sleep(2)\n",
    "    print('리뷰 페이지 로드 완료!')"
   ]
  },
  {
   "cell_type": "code",
   "execution_count": 20,
   "id": "copyrighted-testing",
   "metadata": {},
   "outputs": [
    {
     "name": "stdout",
     "output_type": "stream",
     "text": [
      "리뷰 페이지 로드중...\n",
      "리뷰 페이지 로드 완료!\n"
     ]
    }
   ],
   "source": [
    "go_to_review()"
   ]
  },
  {
   "cell_type": "code",
   "execution_count": 21,
   "id": "unknown-injection",
   "metadata": {},
   "outputs": [],
   "source": [
    "def click_more_review():\n",
    "    driver.find_element_by_class_name('btn-more').click()\n",
    "    time.sleep(2)\n",
    "\n",
    "# 9. 리뷰 페이지 모두 펼치기\n",
    "def stretch_review_page():\n",
    "    review_count = int(driver.find_element_by_xpath('//*[@id=\"content\"]/div[2]/div[1]/ul/li[2]/a/span').text)\n",
    "    click_count = int((review_count/10))\n",
    "    print('모든 리뷰 불러오기 시작...')\n",
    "    for _ in trange(click_count):\n",
    "        try:\n",
    "            scroll()\n",
    "            click_more_review()\n",
    "        except Exception as e:\n",
    "            pass\n",
    "    scroll()\n",
    "    print('모든 리뷰 불러오기 완료!')"
   ]
  },
  {
   "cell_type": "code",
   "execution_count": 22,
   "id": "utility-dakota",
   "metadata": {},
   "outputs": [
    {
     "name": "stderr",
     "output_type": "stream",
     "text": [
      "\r",
      "  0%|                                                                                           | 0/84 [00:00<?, ?it/s]"
     ]
    },
    {
     "name": "stdout",
     "output_type": "stream",
     "text": [
      "모든 리뷰 불러오기 시작...\n"
     ]
    },
    {
     "name": "stderr",
     "output_type": "stream",
     "text": [
      "100%|██████████████████████████████████████████████████████████████████████████████████| 84/84 [06:02<00:00,  4.32s/it]\n"
     ]
    },
    {
     "name": "stdout",
     "output_type": "stream",
     "text": [
      "모든 리뷰 불러오기 완료!\n"
     ]
    }
   ],
   "source": [
    "stretch_review_page()"
   ]
  },
  {
   "cell_type": "code",
   "execution_count": 108,
   "id": "suspected-latin",
   "metadata": {},
   "outputs": [],
   "source": [
    "def get_all_review_elements():\n",
    "    reviews = driver.find_elements_by_css_selector('#review > li.list-group-item.star-point.ng-scope')\n",
    "    return reviews\n"
   ]
  },
  {
   "cell_type": "code",
   "execution_count": 110,
   "id": "freelance-conversion",
   "metadata": {},
   "outputs": [
    {
     "name": "stderr",
     "output_type": "stream",
     "text": [
      "100%|████████████████████████████████████████████████████████████████████████████████| 144/144 [00:39<00:00,  3.60it/s]\n"
     ]
    }
   ],
   "source": [
    "df = pd.DataFrame(columns=['Restaurant','UserID','Menu','Review',\n",
    "                                   'Total','Taste','Quantity','Delivery','Date'])\n",
    "\n",
    "for review in tqdm(get_all_review_elements()):  # 해당 음식점의 리뷰 수 만큼 데이터를 가져옴\n",
    "                    try:\n",
    "                        df.loc[len(df)] = {\n",
    "                            'Restaurant':driver.find_element_by_class_name('restaurant-name').text,\n",
    "                            'UserID':review.find_element_by_css_selector('span.review-id.ng-binding').text,\n",
    "                            'Menu':review.find_element_by_css_selector('div.order-items.default.ng-binding').text,\n",
    "                            'Review':review.find_element_by_css_selector('p').text,\n",
    "                            'Total':str(len(review.find_elements_by_css_selector('div > span.total > span.full.ng-scope'))),\n",
    "                            'Taste':review.find_element_by_css_selector('div:nth-child(2) > div > span.category > span:nth-child(3)').text,\n",
    "                            'Quantity':review.find_element_by_css_selector('div:nth-child(2) > div > span.category > span:nth-child(6)').text,\n",
    "                            'Delivery':review.find_element_by_css_selector('div:nth-child(2) > div > span.category > span:nth-child(9)').text,\n",
    "                            'Date':review.find_element_by_css_selector('div:nth-child(1) > span.review-time.ng-binding').text,\n",
    "                        }\n",
    "                    except Exception as e:\n",
    "                        print('리뷰 페이지 에러')\n",
    "                        print(e)\n",
    "                        pass"
   ]
  },
  {
   "cell_type": "code",
   "execution_count": 111,
   "id": "inclusive-theme",
   "metadata": {},
   "outputs": [],
   "source": [
    "def save_pickle(location, category, yogiyo_df):\n",
    "    pickle.dump(yogiyo_df, open('./{}_{}_df.pkl'.format(location, category),'wb'))\n",
    "    print('{} {} pikcle save complete!'.format(location, category))"
   ]
  },
  {
   "cell_type": "code",
   "execution_count": 115,
   "id": "extended-relative",
   "metadata": {},
   "outputs": [
    {
     "name": "stdout",
     "output_type": "stream",
     "text": [
      "가톨릭대 성심교정2 치킨 pikcle save complete!\n"
     ]
    }
   ],
   "source": [
    "save_pickle('./data/가톨릭대 성심교정2', '치킨', df)"
   ]
  },
  {
   "cell_type": "code",
   "execution_count": 117,
   "id": "immune-volunteer",
   "metadata": {},
   "outputs": [],
   "source": [
    "with open('./data/가톨릭대 성심교정2_치킨_df.pkl', 'rb') as f:\n",
    "    data = pickle.load(f)"
   ]
  },
  {
   "cell_type": "code",
   "execution_count": 118,
   "id": "protective-instrumentation",
   "metadata": {},
   "outputs": [
    {
     "data": {
      "text/html": [
       "<div>\n",
       "<style scoped>\n",
       "    .dataframe tbody tr th:only-of-type {\n",
       "        vertical-align: middle;\n",
       "    }\n",
       "\n",
       "    .dataframe tbody tr th {\n",
       "        vertical-align: top;\n",
       "    }\n",
       "\n",
       "    .dataframe thead th {\n",
       "        text-align: right;\n",
       "    }\n",
       "</style>\n",
       "<table border=\"1\" class=\"dataframe\">\n",
       "  <thead>\n",
       "    <tr style=\"text-align: right;\">\n",
       "      <th></th>\n",
       "      <th>Restaurant</th>\n",
       "      <th>UserID</th>\n",
       "      <th>Menu</th>\n",
       "      <th>Review</th>\n",
       "      <th>Total</th>\n",
       "      <th>Taste</th>\n",
       "      <th>Quantity</th>\n",
       "      <th>Delivery</th>\n",
       "      <th>Date</th>\n",
       "    </tr>\n",
       "  </thead>\n",
       "  <tbody>\n",
       "    <tr>\n",
       "      <th>0</th>\n",
       "      <td>오떡후-송내점</td>\n",
       "      <td>lo**님</td>\n",
       "      <td>오떡후떡볶이 커플세트/1(사이즈 선택(2~3人),구성 선택(반반),떡볶이 선택(매콤...</td>\n",
       "      <td>맵찔이라서 떡볶이시킬때 매우면 어쩌나 걱정하곤했는데 정말 맛있게 잘 먹었습니다 떡도...</td>\n",
       "      <td>5</td>\n",
       "      <td>5</td>\n",
       "      <td>5</td>\n",
       "      <td>5</td>\n",
       "      <td>2일 전</td>\n",
       "    </tr>\n",
       "    <tr>\n",
       "      <th>1</th>\n",
       "      <td>오떡후-송내점</td>\n",
       "      <td>fh**님</td>\n",
       "      <td>오떡후떡볶이 커플세트/1(사이즈 선택(2~3人),구성 선택(떡 많이),떡볶이 선택(...</td>\n",
       "      <td>매운걸 잘 못먹는 편이라 보통맛 순한맛 고민하다가 순한맛 시켰는데 저희한테 아주 딱...</td>\n",
       "      <td>5</td>\n",
       "      <td>5</td>\n",
       "      <td>5</td>\n",
       "      <td>5</td>\n",
       "      <td>2021년 2월 4일</td>\n",
       "    </tr>\n",
       "    <tr>\n",
       "      <th>2</th>\n",
       "      <td>오떡후-송내점</td>\n",
       "      <td>jo**님</td>\n",
       "      <td>매콤까르보나라 오떡후떡볶이/1(사이즈 선택(2~3人),구성 선택(반반),맵기 선택(...</td>\n",
       "      <td>여윽시 오떡후 까르보나라!! 쫀맛탱~~~ 떡이랑 오뎅 둘다 길쭉길쭉해서 먹는데 재밌쪄용!</td>\n",
       "      <td>5</td>\n",
       "      <td>5</td>\n",
       "      <td>5</td>\n",
       "      <td>5</td>\n",
       "      <td>2021년 2월 3일</td>\n",
       "    </tr>\n",
       "    <tr>\n",
       "      <th>3</th>\n",
       "      <td>오떡후-송내점</td>\n",
       "      <td>md**님</td>\n",
       "      <td>오떡후떡볶이 커플세트/1(사이즈 선택(2~3人),구성 선택(반반),떡볶이 선택(매콤...</td>\n",
       "      <td>처음시켰는데 떡이길고 두꺼워서 양이 생각보다많았어요 ㅎㅎ 맛있게 잘먹었습니다!</td>\n",
       "      <td>5</td>\n",
       "      <td>5</td>\n",
       "      <td>5</td>\n",
       "      <td>5</td>\n",
       "      <td>2021년 1월 30일</td>\n",
       "    </tr>\n",
       "    <tr>\n",
       "      <th>4</th>\n",
       "      <td>오떡후-송내점</td>\n",
       "      <td>sk**님</td>\n",
       "      <td>오떡후 순살치킨SET/1(구성 선택(반반),떡볶이 선택(매콤까르보나라 오떡후（순한맛）))</td>\n",
       "      <td>매울줄 알고 까르보나라떡볶이 시켰다가 후회 했네요 ㅋㅋㅋ 담에는 약간 매운거랑 치킨...</td>\n",
       "      <td>5</td>\n",
       "      <td>5</td>\n",
       "      <td>5</td>\n",
       "      <td>5</td>\n",
       "      <td>2021년 1월 25일</td>\n",
       "    </tr>\n",
       "    <tr>\n",
       "      <th>...</th>\n",
       "      <td>...</td>\n",
       "      <td>...</td>\n",
       "      <td>...</td>\n",
       "      <td>...</td>\n",
       "      <td>...</td>\n",
       "      <td>...</td>\n",
       "      <td>...</td>\n",
       "      <td>...</td>\n",
       "      <td>...</td>\n",
       "    </tr>\n",
       "    <tr>\n",
       "      <th>139</th>\n",
       "      <td>오떡후-송내점</td>\n",
       "      <td>손님</td>\n",
       "      <td>오떡후 커플 SET（오떡후2~3人＋튀김SET＋주먹밥＋계란찜）/1(떡볶이 선택(매콤오...</td>\n",
       "      <td>의외로 배달 빨라서 놀랐어영!!! 맛도 있고 양도 bb 서비스 쿨피스 감사합니당</td>\n",
       "      <td>5</td>\n",
       "      <td>5</td>\n",
       "      <td>5</td>\n",
       "      <td>5</td>\n",
       "      <td>2019년 9월 30일</td>\n",
       "    </tr>\n",
       "    <tr>\n",
       "      <th>140</th>\n",
       "      <td>오떡후-송내점</td>\n",
       "      <td>11**님</td>\n",
       "      <td>오떡후 커플 SET（오떡후2~3人＋튀김SET＋주먹밥＋계란찜）/1(떡볶이 선택(매콤오...</td>\n",
       "      <td>Good.........</td>\n",
       "      <td>5</td>\n",
       "      <td>5</td>\n",
       "      <td>5</td>\n",
       "      <td>4</td>\n",
       "      <td>2019년 9월 29일</td>\n",
       "    </tr>\n",
       "    <tr>\n",
       "      <th>141</th>\n",
       "      <td>오떡후-송내점</td>\n",
       "      <td>ck**님</td>\n",
       "      <td>까르보나라 오떡후/1(사이즈 선택(2~3人),구성 선택(어묵많이),토핑 추가 선택(...</td>\n",
       "      <td>양도 엄청많고 맛있었어요~!!</td>\n",
       "      <td>5</td>\n",
       "      <td>5</td>\n",
       "      <td>5</td>\n",
       "      <td>5</td>\n",
       "      <td>2019년 9월 29일</td>\n",
       "    </tr>\n",
       "    <tr>\n",
       "      <th>142</th>\n",
       "      <td>오떡후-송내점</td>\n",
       "      <td>ry**님</td>\n",
       "      <td>오떡후 커플 SET（오떡후2~3人＋튀김SET＋주먹밥＋계란찜）/1(떡볶이 선택(매콤오...</td>\n",
       "      <td>떡이랑 오뎅이!! 신기하게 생겼어요 ㅋㅋㅋ 길쭉길쭉~ 제가 국물류 좋아하는데 떡볶이...</td>\n",
       "      <td>5</td>\n",
       "      <td>5</td>\n",
       "      <td>5</td>\n",
       "      <td>5</td>\n",
       "      <td>2019년 9월 28일</td>\n",
       "    </tr>\n",
       "    <tr>\n",
       "      <th>143</th>\n",
       "      <td>오떡후-송내점</td>\n",
       "      <td>so**님</td>\n",
       "      <td>오떡후 커플 SET（오떡후2~3人＋튀김SET＋주먹밥＋계란찜）/1(떡볶이 선택(매콤오...</td>\n",
       "      <td>오떡후 처음 먹어봤는데 맛있어요! 국물 떡볶이 좋아하시는 분들께 추천합니당!!</td>\n",
       "      <td>5</td>\n",
       "      <td>5</td>\n",
       "      <td>5</td>\n",
       "      <td>5</td>\n",
       "      <td>2019년 9월 25일</td>\n",
       "    </tr>\n",
       "  </tbody>\n",
       "</table>\n",
       "<p>144 rows × 9 columns</p>\n",
       "</div>"
      ],
      "text/plain": [
       "    Restaurant UserID                                               Menu  \\\n",
       "0      오떡후-송내점  lo**님  오떡후떡볶이 커플세트/1(사이즈 선택(2~3人),구성 선택(반반),떡볶이 선택(매콤...   \n",
       "1      오떡후-송내점  fh**님  오떡후떡볶이 커플세트/1(사이즈 선택(2~3人),구성 선택(떡 많이),떡볶이 선택(...   \n",
       "2      오떡후-송내점  jo**님  매콤까르보나라 오떡후떡볶이/1(사이즈 선택(2~3人),구성 선택(반반),맵기 선택(...   \n",
       "3      오떡후-송내점  md**님  오떡후떡볶이 커플세트/1(사이즈 선택(2~3人),구성 선택(반반),떡볶이 선택(매콤...   \n",
       "4      오떡후-송내점  sk**님  오떡후 순살치킨SET/1(구성 선택(반반),떡볶이 선택(매콤까르보나라 오떡후（순한맛）))   \n",
       "..         ...    ...                                                ...   \n",
       "139    오떡후-송내점     손님  오떡후 커플 SET（오떡후2~3人＋튀김SET＋주먹밥＋계란찜）/1(떡볶이 선택(매콤오...   \n",
       "140    오떡후-송내점  11**님  오떡후 커플 SET（오떡후2~3人＋튀김SET＋주먹밥＋계란찜）/1(떡볶이 선택(매콤오...   \n",
       "141    오떡후-송내점  ck**님  까르보나라 오떡후/1(사이즈 선택(2~3人),구성 선택(어묵많이),토핑 추가 선택(...   \n",
       "142    오떡후-송내점  ry**님  오떡후 커플 SET（오떡후2~3人＋튀김SET＋주먹밥＋계란찜）/1(떡볶이 선택(매콤오...   \n",
       "143    오떡후-송내점  so**님  오떡후 커플 SET（오떡후2~3人＋튀김SET＋주먹밥＋계란찜）/1(떡볶이 선택(매콤오...   \n",
       "\n",
       "                                                Review Total Taste Quantity  \\\n",
       "0    맵찔이라서 떡볶이시킬때 매우면 어쩌나 걱정하곤했는데 정말 맛있게 잘 먹었습니다 떡도...     5     5        5   \n",
       "1    매운걸 잘 못먹는 편이라 보통맛 순한맛 고민하다가 순한맛 시켰는데 저희한테 아주 딱...     5     5        5   \n",
       "2    여윽시 오떡후 까르보나라!! 쫀맛탱~~~ 떡이랑 오뎅 둘다 길쭉길쭉해서 먹는데 재밌쪄용!     5     5        5   \n",
       "3          처음시켰는데 떡이길고 두꺼워서 양이 생각보다많았어요 ㅎㅎ 맛있게 잘먹었습니다!     5     5        5   \n",
       "4    매울줄 알고 까르보나라떡볶이 시켰다가 후회 했네요 ㅋㅋㅋ 담에는 약간 매운거랑 치킨...     5     5        5   \n",
       "..                                                 ...   ...   ...      ...   \n",
       "139       의외로 배달 빨라서 놀랐어영!!! 맛도 있고 양도 bb 서비스 쿨피스 감사합니당     5     5        5   \n",
       "140                                      Good.........     5     5        5   \n",
       "141                                   양도 엄청많고 맛있었어요~!!     5     5        5   \n",
       "142  떡이랑 오뎅이!! 신기하게 생겼어요 ㅋㅋㅋ 길쭉길쭉~ 제가 국물류 좋아하는데 떡볶이...     5     5        5   \n",
       "143        오떡후 처음 먹어봤는데 맛있어요! 국물 떡볶이 좋아하시는 분들께 추천합니당!!     5     5        5   \n",
       "\n",
       "    Delivery          Date  \n",
       "0          5          2일 전  \n",
       "1          5   2021년 2월 4일  \n",
       "2          5   2021년 2월 3일  \n",
       "3          5  2021년 1월 30일  \n",
       "4          5  2021년 1월 25일  \n",
       "..       ...           ...  \n",
       "139        5  2019년 9월 30일  \n",
       "140        4  2019년 9월 29일  \n",
       "141        5  2019년 9월 29일  \n",
       "142        5  2019년 9월 28일  \n",
       "143        5  2019년 9월 25일  \n",
       "\n",
       "[144 rows x 9 columns]"
      ]
     },
     "execution_count": 118,
     "metadata": {},
     "output_type": "execute_result"
    }
   ],
   "source": [
    "data"
   ]
  },
  {
   "cell_type": "code",
   "execution_count": null,
   "id": "received-enemy",
   "metadata": {},
   "outputs": [],
   "source": []
  }
 ],
 "metadata": {
  "kernelspec": {
   "display_name": "Python 3",
   "language": "python",
   "name": "python3"
  },
  "language_info": {
   "codemirror_mode": {
    "name": "ipython",
    "version": 3
   },
   "file_extension": ".py",
   "mimetype": "text/x-python",
   "name": "python",
   "nbconvert_exporter": "python",
   "pygments_lexer": "ipython3",
   "version": "3.8.5"
  }
 },
 "nbformat": 4,
 "nbformat_minor": 5
}
