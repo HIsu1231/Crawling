{
 "cells": [
  {
   "cell_type": "code",
   "execution_count": 1,
   "metadata": {},
   "outputs": [],
   "source": [
    "#기본 패키지\n",
    "import re\n",
    "import time\n",
    "import pickle\n",
    "from tqdm import tqdm\n",
    "from tqdm import trange\n",
    "import warnings\n",
    "warnings.filterwarnings('ignore')\n",
    "\n",
    "#크롤링 패키지\n",
    "import requests\n",
    "from selenium import webdriver"
   ]
  },
  {
   "cell_type": "code",
   "execution_count": 2,
   "metadata": {},
   "outputs": [],
   "source": [
    "#페이지 한번 맨아래로 내리기\n",
    "\n",
    "def scroll_bottom():\n",
    "    driver.execute_script(\"window.scrollTo(0,document.body.scrollHeight);\")"
   ]
  },
  {
   "cell_type": "code",
   "execution_count": 3,
   "metadata": {},
   "outputs": [],
   "source": [
    "#입력한 위치로 설정하기\n",
    "\n",
    "def set_location(location):\n",
    "    print(location + \"으로 위치 설정 하는중\")\n",
    "    driver.find_element_by_css_selector('#search > div > form > input').click()\n",
    "    driver.find_element_by_css_selector('#button_search_address > button.btn-search-location-cancel.btn-search-location.btb.btn-default >span').click()\n",
    "    driver.find_element_by_css_selector('#search > div > form > input').send_keys(location)\n",
    "    driver.find_element_by_css_selector('#button_search_address > button.btn.btn-default.ico-pick').click()\n",
    "    time.sleep(2)\n",
    "    print(location +'으로 위치 설정 완료')"
   ]
  },
  {
   "cell_type": "code",
   "execution_count": 4,
   "metadata": {},
   "outputs": [],
   "source": [
    "#요기요 카테고리 Element Number Dictionary 정의\n",
    "\n",
    "food_dict = {'프랜차이즈':3, '치킨':4, '피자&양식':5, '중국집':6, \n",
    "             '한식':7, '일식&돈까스':8, '족발&보쌈':9, '야식': 10,\n",
    "             '분식':11, '카페&디저트': 12}"
   ]
  },
  {
   "cell_type": "code",
   "execution_count": 5,
   "metadata": {},
   "outputs": [],
   "source": [
    "#카테고리 페이지로 넘어가기\n",
    "\n",
    "def go_to_category(category):\n",
    "    print(category + '카테고리 페이지 로드중')\n",
    "    driver.find_element_by_path('//*[@id=\"category\"]/ul/li[{}]/span'.format(food_dict.get(category))).click()\n",
    "    time.sleep(3)\n",
    "    print(category+'카테고리 페이지 로드 완료')    "
   ]
  },
  {
   "cell_type": "code",
   "execution_count": 6,
   "metadata": {},
   "outputs": [],
   "source": [
    "#카테고리(음식점 리스트) 페이지 모두 펼치기\n",
    "\n",
    "def stretch_list_page():\n",
    "    restaurant_count = int(driver.find_element_by_css_selector('#restaurant_count').text)\n",
    "    scroll_count = int((restaurant_count/20))\n",
    "    print('모든 음식점 리스트 불러오기 시작')\n",
    "    \n",
    "    for _ in trange(scroll_count):\n",
    "        try:\n",
    "            scroll_bottom()\n",
    "            time.sleep(3)\n",
    "        except Exception as e:\n",
    "            pass\n",
    "        \n",
    "        scroll_bottom()\n",
    "        time.sleep(3)\n",
    "        print('모든 음식점 리스트 불러오기 완료')"
   ]
  },
  {
   "cell_type": "code",
   "execution_count": 7,
   "metadata": {},
   "outputs": [],
   "source": [
    "#해당 카테고리 음식점 리스트 리턴\n",
    "\n",
    "def get_restaurant_list():\n",
    "    restaurant_list = []\n",
    "    restaurants = driver.find_elements_by_css_selector('#content > div > div.restaurant-list > div.col-sm6.contract')\n",
    "    \n",
    "    for restaurant in restaurants:\n",
    "        restaurant_list.append(restaurant.find_element_by_css_selector('div > table > tbody > tr> td:nth-child(2) > div > div.restaurant-name.ng-binding').text)\n",
    "    \n",
    "    return list(set(restaurant_list))       "
   ]
  },
  {
   "cell_type": "code",
   "execution_count": 8,
   "metadata": {},
   "outputs": [],
   "source": [
    "#검색창에 음식점 검색하기\n",
    "\n",
    "def search_restaurant(restaurant_name):\n",
    "    \n",
    "    try:\n",
    "        driver.find_element_by_xpath('//*[@id=\"category\"]/ul/li[1]/a').click\n",
    "        driver.find_element_by_xpath('//*[@id=\"category\"]/ul/li[13]/form/div/input').send_keys(restaurant_name)\n",
    "        driver.find_element_by_xpath('//*[@id=\"category_search_button\"]').click()\n",
    "    \n",
    "    except Exception as e:\n",
    "        print('search_restaurant 에러')\n",
    "    \n",
    "    time.sleep(5)"
   ]
  },
  {
   "cell_type": "code",
   "execution_count": 9,
   "metadata": {},
   "outputs": [],
   "source": [
    "#검색한 음식점 클릭\n",
    "\n",
    "def go_to_restaurant():\n",
    "    \n",
    "    try:\n",
    "        driver.find_element_by_xpath('//*[@id=\"content\"]/div/div[4]/div[2]/div').click\n",
    "    \n",
    "    except Exception as e:\n",
    "        print('go_to_restaurant 에러')\n",
    "\n",
    "    time.sleep(5)"
   ]
  },
  {
   "cell_type": "code",
   "execution_count": 10,
   "metadata": {},
   "outputs": [],
   "source": [
    "#해당 음식점의 리뷰 페이지로 넘어가기\n",
    "\n",
    "def go_to_review():\n",
    "    print('리뷰 페이지 로드중')\n",
    "    driver.find_element_by_xpath('//*[@id=\"content\"]/div[2]/div[1]/ul/li[2]/a').click()\n",
    "    time.sleep(2)\n",
    "    print('리뷰 페이지 로드 완료')"
   ]
  },
  {
   "cell_type": "code",
   "execution_count": 11,
   "metadata": {},
   "outputs": [],
   "source": [
    "#리뷰 더보기 클릭하기\n",
    "\n",
    "def click_more_review():\n",
    "    dirver.find_element_by_class_name('btn-more').click()\n",
    "    time.sleep(2)"
   ]
  },
  {
   "cell_type": "code",
   "execution_count": 12,
   "metadata": {},
   "outputs": [],
   "source": [
    "#리뷰 페이지 모두 펼치기\n",
    "\n",
    "def stretch_review_page():\n",
    "    review_count = int(driver.find_element_by_xpath('//*[@id=\"content\"]/div[2]/div[1]ul/li[2]/a/span').text)\n",
    "    click_count = int((review_count/10))\n",
    "    \n",
    "    print('모든 리뷰 불러오기 시작')\n",
    "    \n",
    "    for _ in trange(click_count):\n",
    "        \n",
    "        try:\n",
    "            scroll_bottom()\n",
    "            click_more_review()\n",
    "            \n",
    "        except Exception as e:\n",
    "            pass\n",
    "        \n",
    "    scroll_bottom()\n",
    "    print('모든 리뷰 불러오기 완료')"
   ]
  },
  {
   "cell_type": "code",
   "execution_count": null,
   "metadata": {},
   "outputs": [],
   "source": []
  }
 ],
 "metadata": {
  "kernelspec": {
   "display_name": "Python 3",
   "language": "python",
   "name": "python3"
  },
  "language_info": {
   "codemirror_mode": {
    "name": "ipython",
    "version": 3
   },
   "file_extension": ".py",
   "mimetype": "text/x-python",
   "name": "python",
   "nbconvert_exporter": "python",
   "pygments_lexer": "ipython3",
   "version": "3.8.5"
  }
 },
 "nbformat": 4,
 "nbformat_minor": 4
}
