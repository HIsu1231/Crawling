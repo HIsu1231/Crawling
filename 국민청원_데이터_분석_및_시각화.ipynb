{
  "nbformat": 4,
  "nbformat_minor": 0,
  "metadata": {
    "colab": {
      "name": "국민청원 데이터 분석 및 시각화.ipynb",
      "provenance": [],
      "authorship_tag": "ABX9TyOeEpDDgR4PflhsDNyrzfzf",
      "include_colab_link": true
    },
    "kernelspec": {
      "name": "python3",
      "display_name": "Python 3"
    }
  },
  "cells": [
    {
      "cell_type": "markdown",
      "metadata": {
        "id": "view-in-github",
        "colab_type": "text"
      },
      "source": [
        "<a href=\"https://colab.research.google.com/github/HIsu1231/NLP_inflearn/blob/main/%EA%B5%AD%EB%AF%BC%EC%B2%AD%EC%9B%90_%EB%8D%B0%EC%9D%B4%ED%84%B0_%EB%B6%84%EC%84%9D_%EB%B0%8F_%EC%8B%9C%EA%B0%81%ED%99%94.ipynb\" target=\"_parent\"><img src=\"https://colab.research.google.com/assets/colab-badge.svg\" alt=\"Open In Colab\"/></a>"
      ]
    },
    {
      "cell_type": "code",
      "metadata": {
        "id": "baYOkwwx79Yw"
      },
      "source": [
        "\r\n",
        " import warnings\r\n",
        " warnings.filterwarnings('ignore')"
      ],
      "execution_count": null,
      "outputs": []
    },
    {
      "cell_type": "code",
      "metadata": {
        "colab": {
          "base_uri": "https://localhost:8080/"
        },
        "id": "m0Fgw_0V943Q",
        "outputId": "7687137e-c571-406e-e148-cda11f100007"
      },
      "source": [
        "import pandas as pd\r\n",
        "import numpy as np\r\n",
        "from plotnine import *\r\n",
        "\r\n",
        "print(pd.__version__)\r\n",
        "print(np.__version__)"
      ],
      "execution_count": null,
      "outputs": [
        {
          "output_type": "stream",
          "text": [
            "1.1.5\n",
            "1.19.5\n"
          ],
          "name": "stdout"
        }
      ]
    },
    {
      "cell_type": "markdown",
      "metadata": {
        "id": "mitZr_HQAVUb"
      },
      "source": [
        "###데이터 불러오기"
      ]
    },
    {
      "cell_type": "code",
      "metadata": {
        "id": "0pvOgrXh-Tui"
      },
      "source": [
        "from pydrive.auth import GoogleAuth\r\n",
        "from pydrive.drive import GoogleDrive\r\n",
        "from google.colab import auth\r\n",
        "from oauth2client.client import GoogleCredentials\r\n",
        "\r\n",
        "auth.authenticate_user()\r\n",
        "gauth = GoogleAuth()\r\n",
        "gauth.credentials = GoogleCredentials.get_application_default()\r\n",
        "drive = GoogleDrive(gauth)"
      ],
      "execution_count": null,
      "outputs": []
    },
    {
      "cell_type": "code",
      "metadata": {
        "colab": {
          "base_uri": "https://localhost:8080/"
        },
        "id": "qG0nyVb2-We2",
        "outputId": "68fcd402-4aa0-4a09-ec4a-86481e5b75aa"
      },
      "source": [
        "url = 'https://drive.google.com/open?id=1d8VEAj6n83wT1YRlCrhoU_1mMSvYpXc4'\r\n",
        "\r\n",
        "id = url.split('=')[1]\r\n",
        "print(id)"
      ],
      "execution_count": null,
      "outputs": [
        {
          "output_type": "stream",
          "text": [
            "1d8VEAj6n83wT1YRlCrhoU_1mMSvYpXc4\n"
          ],
          "name": "stdout"
        }
      ]
    },
    {
      "cell_type": "code",
      "metadata": {
        "colab": {
          "base_uri": "https://localhost:8080/"
        },
        "id": "mDr9xEYz_Svx",
        "outputId": "8c676d85-e5fe-4d49-f983-b5238d071631"
      },
      "source": [
        "%ls"
      ],
      "execution_count": null,
      "outputs": [
        {
          "output_type": "stream",
          "text": [
            "adc.json  \u001b[0m\u001b[01;34msample_data\u001b[0m/\n"
          ],
          "name": "stdout"
        }
      ]
    },
    {
      "cell_type": "code",
      "metadata": {
        "id": "PSF6wHPq_crp"
      },
      "source": [
        "downloaded = drive.CreateFile({'id':id})\r\n",
        "downloaded.GetContentFile('petition.csv')"
      ],
      "execution_count": null,
      "outputs": []
    },
    {
      "cell_type": "code",
      "metadata": {
        "colab": {
          "base_uri": "https://localhost:8080/"
        },
        "id": "_HCXyMvX_eRE",
        "outputId": "15cb4f94-c2f4-4a18-d760-04b4a410a84f"
      },
      "source": [
        "petitions = pd.read_csv('petition.csv', index_col=0, parse_dates=['start','end'])\r\n",
        "\r\n",
        "petitions.shape"
      ],
      "execution_count": null,
      "outputs": [
        {
          "output_type": "execute_result",
          "data": {
            "text/plain": [
              "(377756, 7)"
            ]
          },
          "metadata": {
            "tags": []
          },
          "execution_count": 13
        }
      ]
    },
    {
      "cell_type": "markdown",
      "metadata": {
        "id": "84vTVt7dAXxb"
      },
      "source": [
        "###데이터 미리보기"
      ]
    },
    {
      "cell_type": "code",
      "metadata": {
        "colab": {
          "base_uri": "https://localhost:8080/",
          "height": 334
        },
        "id": "2GSh2c3i_2mS",
        "outputId": "93069fa3-58b2-47cc-91b4-d7be0c2b5801"
      },
      "source": [
        "petitions.head(3)"
      ],
      "execution_count": null,
      "outputs": [
        {
          "output_type": "execute_result",
          "data": {
            "text/html": [
              "<div>\n",
              "<style scoped>\n",
              "    .dataframe tbody tr th:only-of-type {\n",
              "        vertical-align: middle;\n",
              "    }\n",
              "\n",
              "    .dataframe tbody tr th {\n",
              "        vertical-align: top;\n",
              "    }\n",
              "\n",
              "    .dataframe thead th {\n",
              "        text-align: right;\n",
              "    }\n",
              "</style>\n",
              "<table border=\"1\" class=\"dataframe\">\n",
              "  <thead>\n",
              "    <tr style=\"text-align: right;\">\n",
              "      <th></th>\n",
              "      <th>start</th>\n",
              "      <th>end</th>\n",
              "      <th>answered</th>\n",
              "      <th>votes</th>\n",
              "      <th>category</th>\n",
              "      <th>title</th>\n",
              "      <th>content</th>\n",
              "    </tr>\n",
              "    <tr>\n",
              "      <th>article_id</th>\n",
              "      <th></th>\n",
              "      <th></th>\n",
              "      <th></th>\n",
              "      <th></th>\n",
              "      <th></th>\n",
              "      <th></th>\n",
              "      <th></th>\n",
              "    </tr>\n",
              "  </thead>\n",
              "  <tbody>\n",
              "    <tr>\n",
              "      <th>21</th>\n",
              "      <td>2017-08-19</td>\n",
              "      <td>2017-11-17</td>\n",
              "      <td>0</td>\n",
              "      <td>9</td>\n",
              "      <td>안전/환경</td>\n",
              "      <td>스텔라 데이지호에 대한 제안입니다.</td>\n",
              "      <td>스텔라 데이지호에 대한 제안입니다.\\n3월31일 스텔라 데이지호가 침몰하고 5달째가...</td>\n",
              "    </tr>\n",
              "    <tr>\n",
              "      <th>22</th>\n",
              "      <td>2017-08-19</td>\n",
              "      <td>2017-11-17</td>\n",
              "      <td>0</td>\n",
              "      <td>17</td>\n",
              "      <td>기타</td>\n",
              "      <td>비리제보처를 만들어주세요.</td>\n",
              "      <td>현 정부에 국민들이 가장 원하는 것은 부패척결입니다.  우리 사회에 각종 비리들이 ...</td>\n",
              "    </tr>\n",
              "    <tr>\n",
              "      <th>23</th>\n",
              "      <td>2017-08-19</td>\n",
              "      <td>2017-09-03</td>\n",
              "      <td>0</td>\n",
              "      <td>0</td>\n",
              "      <td>미래</td>\n",
              "      <td>제2의 개성공단</td>\n",
              "      <td>만일 하시는 대통령님 및 각 부처 장관님,주무관님들 안녕하세요!!\\n전남 목포에서 ...</td>\n",
              "    </tr>\n",
              "  </tbody>\n",
              "</table>\n",
              "</div>"
            ],
            "text/plain": [
              "                start  ...                                            content\n",
              "article_id             ...                                                   \n",
              "21         2017-08-19  ...  스텔라 데이지호에 대한 제안입니다.\\n3월31일 스텔라 데이지호가 침몰하고 5달째가...\n",
              "22         2017-08-19  ...  현 정부에 국민들이 가장 원하는 것은 부패척결입니다.  우리 사회에 각종 비리들이 ...\n",
              "23         2017-08-19  ...  만일 하시는 대통령님 및 각 부처 장관님,주무관님들 안녕하세요!!\\n전남 목포에서 ...\n",
              "\n",
              "[3 rows x 7 columns]"
            ]
          },
          "metadata": {
            "tags": []
          },
          "execution_count": 15
        }
      ]
    },
    {
      "cell_type": "code",
      "metadata": {
        "colab": {
          "base_uri": "https://localhost:8080/",
          "height": 418
        },
        "id": "titlGpcpAbBb",
        "outputId": "b6a046fd-6a55-4ccc-86fa-d8200b26eb1e"
      },
      "source": [
        "petitions.tail(3)"
      ],
      "execution_count": null,
      "outputs": [
        {
          "output_type": "execute_result",
          "data": {
            "text/html": [
              "<div>\n",
              "<style scoped>\n",
              "    .dataframe tbody tr th:only-of-type {\n",
              "        vertical-align: middle;\n",
              "    }\n",
              "\n",
              "    .dataframe tbody tr th {\n",
              "        vertical-align: top;\n",
              "    }\n",
              "\n",
              "    .dataframe thead th {\n",
              "        text-align: right;\n",
              "    }\n",
              "</style>\n",
              "<table border=\"1\" class=\"dataframe\">\n",
              "  <thead>\n",
              "    <tr style=\"text-align: right;\">\n",
              "      <th></th>\n",
              "      <th>start</th>\n",
              "      <th>end</th>\n",
              "      <th>answered</th>\n",
              "      <th>votes</th>\n",
              "      <th>category</th>\n",
              "      <th>title</th>\n",
              "      <th>content</th>\n",
              "    </tr>\n",
              "    <tr>\n",
              "      <th>article_id</th>\n",
              "      <th></th>\n",
              "      <th></th>\n",
              "      <th></th>\n",
              "      <th></th>\n",
              "      <th></th>\n",
              "      <th></th>\n",
              "      <th></th>\n",
              "    </tr>\n",
              "  </thead>\n",
              "  <tbody>\n",
              "    <tr>\n",
              "      <th>492041</th>\n",
              "      <td>2019-01-09</td>\n",
              "      <td>2019-02-08</td>\n",
              "      <td>0</td>\n",
              "      <td>1</td>\n",
              "      <td>외교/통일/국방</td>\n",
              "      <td>남한땅에 옥류관을 오픈해주세요</td>\n",
              "      <td>말그대로 옥류관을 여기서 열면 진짜 재미있고 신나는 일이 일어날것 같은 느낌이 듭니...</td>\n",
              "    </tr>\n",
              "    <tr>\n",
              "      <th>492042</th>\n",
              "      <td>2019-01-09</td>\n",
              "      <td>2019-02-08</td>\n",
              "      <td>0</td>\n",
              "      <td>4</td>\n",
              "      <td>정치개혁</td>\n",
              "      <td>임종석실장님 수고많으셨습니다.</td>\n",
              "      <td>범죄정권이후 많은 어려움을 갖고 시작한 국민의정부.\\n저급한 자칭 보수단체와 한국당...</td>\n",
              "    </tr>\n",
              "    <tr>\n",
              "      <th>492043</th>\n",
              "      <td>2019-01-09</td>\n",
              "      <td>2019-02-08</td>\n",
              "      <td>0</td>\n",
              "      <td>1</td>\n",
              "      <td>행정</td>\n",
              "      <td>예천군과 환경부를 규탄합니다. 어불성설인 가축사육 관련 법규를 개정해주세요!</td>\n",
              "      <td>해당 사건이 발생한 곳은 요즘은 매체에서 매일 나오는 곳으로 '군의원의 외유성 해외...</td>\n",
              "    </tr>\n",
              "  </tbody>\n",
              "</table>\n",
              "</div>"
            ],
            "text/plain": [
              "                start  ...                                            content\n",
              "article_id             ...                                                   \n",
              "492041     2019-01-09  ...  말그대로 옥류관을 여기서 열면 진짜 재미있고 신나는 일이 일어날것 같은 느낌이 듭니...\n",
              "492042     2019-01-09  ...  범죄정권이후 많은 어려움을 갖고 시작한 국민의정부.\\n저급한 자칭 보수단체와 한국당...\n",
              "492043     2019-01-09  ...  해당 사건이 발생한 곳은 요즘은 매체에서 매일 나오는 곳으로 '군의원의 외유성 해외...\n",
              "\n",
              "[3 rows x 7 columns]"
            ]
          },
          "metadata": {
            "tags": []
          },
          "execution_count": 16
        }
      ]
    },
    {
      "cell_type": "code",
      "metadata": {
        "colab": {
          "base_uri": "https://localhost:8080/"
        },
        "id": "F7wuMujsAhph",
        "outputId": "d76373e0-b179-4aaa-b25b-b1c2460bf83e"
      },
      "source": [
        "petitions.columns"
      ],
      "execution_count": null,
      "outputs": [
        {
          "output_type": "execute_result",
          "data": {
            "text/plain": [
              "Index(['start', 'end', 'answered', 'votes', 'category', 'title', 'content'], dtype='object')"
            ]
          },
          "metadata": {
            "tags": []
          },
          "execution_count": 17
        }
      ]
    },
    {
      "cell_type": "code",
      "metadata": {
        "colab": {
          "base_uri": "https://localhost:8080/"
        },
        "id": "AZvRLsx1Alu2",
        "outputId": "30d0aaf6-3e25-4b1f-ed76-4297f80f569e"
      },
      "source": [
        "petitions.info()"
      ],
      "execution_count": null,
      "outputs": [
        {
          "output_type": "stream",
          "text": [
            "<class 'pandas.core.frame.DataFrame'>\n",
            "Int64Index: 377756 entries, 21 to 492043\n",
            "Data columns (total 7 columns):\n",
            " #   Column    Non-Null Count   Dtype         \n",
            "---  ------    --------------   -----         \n",
            " 0   start     377756 non-null  datetime64[ns]\n",
            " 1   end       377756 non-null  datetime64[ns]\n",
            " 2   answered  377756 non-null  int64         \n",
            " 3   votes     377756 non-null  int64         \n",
            " 4   category  377756 non-null  object        \n",
            " 5   title     377756 non-null  object        \n",
            " 6   content   377755 non-null  object        \n",
            "dtypes: datetime64[ns](2), int64(2), object(3)\n",
            "memory usage: 23.1+ MB\n"
          ],
          "name": "stdout"
        }
      ]
    },
    {
      "cell_type": "code",
      "metadata": {
        "colab": {
          "base_uri": "https://localhost:8080/",
          "height": 284
        },
        "id": "8wg8iBtmAnxm",
        "outputId": "b025b2be-8945-4b5c-e633-5e71db475870"
      },
      "source": [
        "#숫자 데이터의 count, mean, std, min값 등 출력\r\n",
        "petitions.describe()"
      ],
      "execution_count": null,
      "outputs": [
        {
          "output_type": "execute_result",
          "data": {
            "text/html": [
              "<div>\n",
              "<style scoped>\n",
              "    .dataframe tbody tr th:only-of-type {\n",
              "        vertical-align: middle;\n",
              "    }\n",
              "\n",
              "    .dataframe tbody tr th {\n",
              "        vertical-align: top;\n",
              "    }\n",
              "\n",
              "    .dataframe thead th {\n",
              "        text-align: right;\n",
              "    }\n",
              "</style>\n",
              "<table border=\"1\" class=\"dataframe\">\n",
              "  <thead>\n",
              "    <tr style=\"text-align: right;\">\n",
              "      <th></th>\n",
              "      <th>answered</th>\n",
              "      <th>votes</th>\n",
              "    </tr>\n",
              "  </thead>\n",
              "  <tbody>\n",
              "    <tr>\n",
              "      <th>count</th>\n",
              "      <td>377756.000000</td>\n",
              "      <td>3.777560e+05</td>\n",
              "    </tr>\n",
              "    <tr>\n",
              "      <th>mean</th>\n",
              "      <td>0.000077</td>\n",
              "      <td>1.514069e+02</td>\n",
              "    </tr>\n",
              "    <tr>\n",
              "      <th>std</th>\n",
              "      <td>0.008761</td>\n",
              "      <td>4.842551e+03</td>\n",
              "    </tr>\n",
              "    <tr>\n",
              "      <th>min</th>\n",
              "      <td>0.000000</td>\n",
              "      <td>0.000000e+00</td>\n",
              "    </tr>\n",
              "    <tr>\n",
              "      <th>25%</th>\n",
              "      <td>0.000000</td>\n",
              "      <td>1.000000e+00</td>\n",
              "    </tr>\n",
              "    <tr>\n",
              "      <th>50%</th>\n",
              "      <td>0.000000</td>\n",
              "      <td>5.000000e+00</td>\n",
              "    </tr>\n",
              "    <tr>\n",
              "      <th>75%</th>\n",
              "      <td>0.000000</td>\n",
              "      <td>1.500000e+01</td>\n",
              "    </tr>\n",
              "    <tr>\n",
              "      <th>max</th>\n",
              "      <td>1.000000</td>\n",
              "      <td>1.192049e+06</td>\n",
              "    </tr>\n",
              "  </tbody>\n",
              "</table>\n",
              "</div>"
            ],
            "text/plain": [
              "            answered         votes\n",
              "count  377756.000000  3.777560e+05\n",
              "mean        0.000077  1.514069e+02\n",
              "std         0.008761  4.842551e+03\n",
              "min         0.000000  0.000000e+00\n",
              "25%         0.000000  1.000000e+00\n",
              "50%         0.000000  5.000000e+00\n",
              "75%         0.000000  1.500000e+01\n",
              "max         1.000000  1.192049e+06"
            ]
          },
          "metadata": {
            "tags": []
          },
          "execution_count": 20
        }
      ]
    },
    {
      "cell_type": "markdown",
      "metadata": {
        "id": "jhkudwa3A3K5"
      },
      "source": [
        "###결측치 확인"
      ]
    },
    {
      "cell_type": "code",
      "metadata": {
        "colab": {
          "base_uri": "https://localhost:8080/"
        },
        "id": "RbRFr2y4Ard3",
        "outputId": "2e0ac63b-f726-43ef-b6b7-d128fe5a73c7"
      },
      "source": [
        "petitions.isnull().sum()"
      ],
      "execution_count": null,
      "outputs": [
        {
          "output_type": "execute_result",
          "data": {
            "text/plain": [
              "start       0\n",
              "end         0\n",
              "answered    0\n",
              "votes       0\n",
              "category    0\n",
              "title       0\n",
              "content     1\n",
              "dtype: int64"
            ]
          },
          "metadata": {
            "tags": []
          },
          "execution_count": 21
        }
      ]
    },
    {
      "cell_type": "markdown",
      "metadata": {
        "id": "h7BCcCISBqD7"
      },
      "source": [
        "### 답변 대상 청원 컬럼 다시 만들기"
      ]
    },
    {
      "cell_type": "code",
      "metadata": {
        "colab": {
          "base_uri": "https://localhost:8080/"
        },
        "id": "Zr76sPVwBa5Q",
        "outputId": "dc7ee197-5cec-48a8-f2d7-239563385911"
      },
      "source": [
        "petitions['answer'] = (petitions['votes'] > 200000) == 1\r\n",
        "petitions.shape"
      ],
      "execution_count": null,
      "outputs": [
        {
          "output_type": "execute_result",
          "data": {
            "text/plain": [
              "(377756, 8)"
            ]
          },
          "metadata": {
            "tags": []
          },
          "execution_count": 22
        }
      ]
    },
    {
      "cell_type": "code",
      "metadata": {
        "colab": {
          "base_uri": "https://localhost:8080/",
          "height": 418
        },
        "id": "X2HgreKmClBF",
        "outputId": "9ddce803-2ddc-4180-9734-512c7d0df200"
      },
      "source": [
        "petitions.head(3)"
      ],
      "execution_count": null,
      "outputs": [
        {
          "output_type": "execute_result",
          "data": {
            "text/html": [
              "<div>\n",
              "<style scoped>\n",
              "    .dataframe tbody tr th:only-of-type {\n",
              "        vertical-align: middle;\n",
              "    }\n",
              "\n",
              "    .dataframe tbody tr th {\n",
              "        vertical-align: top;\n",
              "    }\n",
              "\n",
              "    .dataframe thead th {\n",
              "        text-align: right;\n",
              "    }\n",
              "</style>\n",
              "<table border=\"1\" class=\"dataframe\">\n",
              "  <thead>\n",
              "    <tr style=\"text-align: right;\">\n",
              "      <th></th>\n",
              "      <th>start</th>\n",
              "      <th>end</th>\n",
              "      <th>answered</th>\n",
              "      <th>votes</th>\n",
              "      <th>category</th>\n",
              "      <th>title</th>\n",
              "      <th>content</th>\n",
              "      <th>answer</th>\n",
              "    </tr>\n",
              "    <tr>\n",
              "      <th>article_id</th>\n",
              "      <th></th>\n",
              "      <th></th>\n",
              "      <th></th>\n",
              "      <th></th>\n",
              "      <th></th>\n",
              "      <th></th>\n",
              "      <th></th>\n",
              "      <th></th>\n",
              "    </tr>\n",
              "  </thead>\n",
              "  <tbody>\n",
              "    <tr>\n",
              "      <th>21</th>\n",
              "      <td>2017-08-19</td>\n",
              "      <td>2017-11-17</td>\n",
              "      <td>0</td>\n",
              "      <td>9</td>\n",
              "      <td>안전/환경</td>\n",
              "      <td>스텔라 데이지호에 대한 제안입니다.</td>\n",
              "      <td>스텔라 데이지호에 대한 제안입니다.\\n3월31일 스텔라 데이지호가 침몰하고 5달째가...</td>\n",
              "      <td>False</td>\n",
              "    </tr>\n",
              "    <tr>\n",
              "      <th>22</th>\n",
              "      <td>2017-08-19</td>\n",
              "      <td>2017-11-17</td>\n",
              "      <td>0</td>\n",
              "      <td>17</td>\n",
              "      <td>기타</td>\n",
              "      <td>비리제보처를 만들어주세요.</td>\n",
              "      <td>현 정부에 국민들이 가장 원하는 것은 부패척결입니다.  우리 사회에 각종 비리들이 ...</td>\n",
              "      <td>False</td>\n",
              "    </tr>\n",
              "    <tr>\n",
              "      <th>23</th>\n",
              "      <td>2017-08-19</td>\n",
              "      <td>2017-09-03</td>\n",
              "      <td>0</td>\n",
              "      <td>0</td>\n",
              "      <td>미래</td>\n",
              "      <td>제2의 개성공단</td>\n",
              "      <td>만일 하시는 대통령님 및 각 부처 장관님,주무관님들 안녕하세요!!\\n전남 목포에서 ...</td>\n",
              "      <td>False</td>\n",
              "    </tr>\n",
              "  </tbody>\n",
              "</table>\n",
              "</div>"
            ],
            "text/plain": [
              "                start  ... answer\n",
              "article_id             ...       \n",
              "21         2017-08-19  ...  False\n",
              "22         2017-08-19  ...  False\n",
              "23         2017-08-19  ...  False\n",
              "\n",
              "[3 rows x 8 columns]"
            ]
          },
          "metadata": {
            "tags": []
          },
          "execution_count": 23
        }
      ]
    },
    {
      "cell_type": "markdown",
      "metadata": {
        "id": "Hy1UBflhCqD0"
      },
      "source": [
        "###청원 기간 컬럼 생성"
      ]
    },
    {
      "cell_type": "code",
      "metadata": {
        "colab": {
          "base_uri": "https://localhost:8080/",
          "height": 639
        },
        "id": "LOj22vqACnx6",
        "outputId": "02aa2f4c-5783-44b8-b99f-576ee0f9b6fe"
      },
      "source": [
        "petitions['duration'] = petitions['end'] - petitions['start']\r\n",
        "petitions.sort_values('duration', ascending=True).head(3)"
      ],
      "execution_count": null,
      "outputs": [
        {
          "output_type": "execute_result",
          "data": {
            "text/html": [
              "<div>\n",
              "<style scoped>\n",
              "    .dataframe tbody tr th:only-of-type {\n",
              "        vertical-align: middle;\n",
              "    }\n",
              "\n",
              "    .dataframe tbody tr th {\n",
              "        vertical-align: top;\n",
              "    }\n",
              "\n",
              "    .dataframe thead th {\n",
              "        text-align: right;\n",
              "    }\n",
              "</style>\n",
              "<table border=\"1\" class=\"dataframe\">\n",
              "  <thead>\n",
              "    <tr style=\"text-align: right;\">\n",
              "      <th></th>\n",
              "      <th>start</th>\n",
              "      <th>end</th>\n",
              "      <th>answered</th>\n",
              "      <th>votes</th>\n",
              "      <th>category</th>\n",
              "      <th>title</th>\n",
              "      <th>content</th>\n",
              "      <th>answer</th>\n",
              "      <th>duration</th>\n",
              "    </tr>\n",
              "    <tr>\n",
              "      <th>article_id</th>\n",
              "      <th></th>\n",
              "      <th></th>\n",
              "      <th></th>\n",
              "      <th></th>\n",
              "      <th></th>\n",
              "      <th></th>\n",
              "      <th></th>\n",
              "      <th></th>\n",
              "      <th></th>\n",
              "    </tr>\n",
              "  </thead>\n",
              "  <tbody>\n",
              "    <tr>\n",
              "      <th>13577</th>\n",
              "      <td>2017-09-12</td>\n",
              "      <td>2017-09-19</td>\n",
              "      <td>0</td>\n",
              "      <td>20</td>\n",
              "      <td>육아/교육</td>\n",
              "      <td>사립유치원의 집단휴업을 반대합니다</td>\n",
              "      <td>국공립 유치원도 없고 국공립어린이집 들어가기도 힘든 실정에 사립유치원은 부모들의 어...</td>\n",
              "      <td>False</td>\n",
              "      <td>7 days</td>\n",
              "    </tr>\n",
              "    <tr>\n",
              "      <th>4213</th>\n",
              "      <td>2017-09-05</td>\n",
              "      <td>2017-09-12</td>\n",
              "      <td>0</td>\n",
              "      <td>1</td>\n",
              "      <td>인권/성평등</td>\n",
              "      <td>청소년 보호법이 아니라 소년법입니다...</td>\n",
              "      <td>소년법 폐지 청원합니다</td>\n",
              "      <td>False</td>\n",
              "      <td>7 days</td>\n",
              "    </tr>\n",
              "    <tr>\n",
              "      <th>4214</th>\n",
              "      <td>2017-09-05</td>\n",
              "      <td>2017-09-12</td>\n",
              "      <td>0</td>\n",
              "      <td>0</td>\n",
              "      <td>정치개혁</td>\n",
              "      <td>소년법 강화</td>\n",
              "      <td>이번 부산여중생 사건을보고 느낍니다.\\n소년법 폐지해주셨으면 좋겠습니다.\\n아님 강...</td>\n",
              "      <td>False</td>\n",
              "      <td>7 days</td>\n",
              "    </tr>\n",
              "  </tbody>\n",
              "</table>\n",
              "</div>"
            ],
            "text/plain": [
              "                start        end  ...  answer  duration\n",
              "article_id                        ...                  \n",
              "13577      2017-09-12 2017-09-19  ...   False    7 days\n",
              "4213       2017-09-05 2017-09-12  ...   False    7 days\n",
              "4214       2017-09-05 2017-09-12  ...   False    7 days\n",
              "\n",
              "[3 rows x 9 columns]"
            ]
          },
          "metadata": {
            "tags": []
          },
          "execution_count": 24
        }
      ]
    },
    {
      "cell_type": "code",
      "metadata": {
        "colab": {
          "base_uri": "https://localhost:8080/"
        },
        "id": "ztydJct-C1Hw",
        "outputId": "61682b40-59de-43b6-b6ee-16b72b90c617"
      },
      "source": [
        "petitions['duration'].value_counts()"
      ],
      "execution_count": null,
      "outputs": [
        {
          "output_type": "execute_result",
          "data": {
            "text/plain": [
              "30 days    366556\n",
              "90 days      6754\n",
              "7 days       2436\n",
              "15 days      1204\n",
              "60 days       806\n",
              "Name: duration, dtype: int64"
            ]
          },
          "metadata": {
            "tags": []
          },
          "execution_count": 25
        }
      ]
    },
    {
      "cell_type": "code",
      "metadata": {
        "colab": {
          "base_uri": "https://localhost:8080/",
          "height": 227
        },
        "id": "kVJ276CtC9bY",
        "outputId": "eb470be3-c0e1-4981-db72-28bfa937561c"
      },
      "source": [
        "petitions.loc[(petitions['duration'] == '90days') & (petitions['answer'] == 1)]"
      ],
      "execution_count": null,
      "outputs": [
        {
          "output_type": "execute_result",
          "data": {
            "text/html": [
              "<div>\n",
              "<style scoped>\n",
              "    .dataframe tbody tr th:only-of-type {\n",
              "        vertical-align: middle;\n",
              "    }\n",
              "\n",
              "    .dataframe tbody tr th {\n",
              "        vertical-align: top;\n",
              "    }\n",
              "\n",
              "    .dataframe thead th {\n",
              "        text-align: right;\n",
              "    }\n",
              "</style>\n",
              "<table border=\"1\" class=\"dataframe\">\n",
              "  <thead>\n",
              "    <tr style=\"text-align: right;\">\n",
              "      <th></th>\n",
              "      <th>start</th>\n",
              "      <th>end</th>\n",
              "      <th>answered</th>\n",
              "      <th>votes</th>\n",
              "      <th>category</th>\n",
              "      <th>title</th>\n",
              "      <th>content</th>\n",
              "      <th>answer</th>\n",
              "      <th>duration</th>\n",
              "    </tr>\n",
              "    <tr>\n",
              "      <th>article_id</th>\n",
              "      <th></th>\n",
              "      <th></th>\n",
              "      <th></th>\n",
              "      <th></th>\n",
              "      <th></th>\n",
              "      <th></th>\n",
              "      <th></th>\n",
              "      <th></th>\n",
              "      <th></th>\n",
              "    </tr>\n",
              "  </thead>\n",
              "  <tbody>\n",
              "    <tr>\n",
              "      <th>10949</th>\n",
              "      <td>2017-09-06</td>\n",
              "      <td>2017-12-05</td>\n",
              "      <td>1</td>\n",
              "      <td>615354</td>\n",
              "      <td>미래</td>\n",
              "      <td>조두순 출소반대</td>\n",
              "      <td>제발 조두순 재심다시해서 무기징역으로 해야됩니다!!!</td>\n",
              "      <td>True</td>\n",
              "      <td>90 days</td>\n",
              "    </tr>\n",
              "  </tbody>\n",
              "</table>\n",
              "</div>"
            ],
            "text/plain": [
              "                start        end  ...  answer  duration\n",
              "article_id                        ...                  \n",
              "10949      2017-09-06 2017-12-05  ...    True   90 days\n",
              "\n",
              "[1 rows x 9 columns]"
            ]
          },
          "metadata": {
            "tags": []
          },
          "execution_count": 26
        }
      ]
    },
    {
      "cell_type": "code",
      "metadata": {
        "colab": {
          "base_uri": "https://localhost:8080/",
          "height": 429
        },
        "id": "CRPdRjscDl4T",
        "outputId": "b7110384-552d-4e92-ffa0-a69e1badcf37"
      },
      "source": [
        "petitions.loc[(petitions['duration'] == '60days') & (petitions['answer'] == 1)]"
      ],
      "execution_count": null,
      "outputs": [
        {
          "output_type": "execute_result",
          "data": {
            "text/html": [
              "<div>\n",
              "<style scoped>\n",
              "    .dataframe tbody tr th:only-of-type {\n",
              "        vertical-align: middle;\n",
              "    }\n",
              "\n",
              "    .dataframe tbody tr th {\n",
              "        vertical-align: top;\n",
              "    }\n",
              "\n",
              "    .dataframe thead th {\n",
              "        text-align: right;\n",
              "    }\n",
              "</style>\n",
              "<table border=\"1\" class=\"dataframe\">\n",
              "  <thead>\n",
              "    <tr style=\"text-align: right;\">\n",
              "      <th></th>\n",
              "      <th>start</th>\n",
              "      <th>end</th>\n",
              "      <th>answered</th>\n",
              "      <th>votes</th>\n",
              "      <th>category</th>\n",
              "      <th>title</th>\n",
              "      <th>content</th>\n",
              "      <th>answer</th>\n",
              "      <th>duration</th>\n",
              "    </tr>\n",
              "    <tr>\n",
              "      <th>article_id</th>\n",
              "      <th></th>\n",
              "      <th></th>\n",
              "      <th></th>\n",
              "      <th></th>\n",
              "      <th></th>\n",
              "      <th></th>\n",
              "      <th></th>\n",
              "      <th></th>\n",
              "      <th></th>\n",
              "    </tr>\n",
              "  </thead>\n",
              "  <tbody>\n",
              "    <tr>\n",
              "      <th>1785</th>\n",
              "      <td>2017-09-03</td>\n",
              "      <td>2017-11-02</td>\n",
              "      <td>1</td>\n",
              "      <td>296330</td>\n",
              "      <td>인권/성평등</td>\n",
              "      <td>청소년이란 이유로 보호법을 악용하는 잔인무도한 청소년들이 늘어나고있습니다. 반드시 ...</td>\n",
              "      <td>안녕하십니까. 청소년보호법이란 명목하에 나쁜짓을 일삼는 청소년들이 너무나 많아지고 ...</td>\n",
              "      <td>True</td>\n",
              "      <td>60 days</td>\n",
              "    </tr>\n",
              "  </tbody>\n",
              "</table>\n",
              "</div>"
            ],
            "text/plain": [
              "                start        end  ...  answer  duration\n",
              "article_id                        ...                  \n",
              "1785       2017-09-03 2017-11-02  ...    True   60 days\n",
              "\n",
              "[1 rows x 9 columns]"
            ]
          },
          "metadata": {
            "tags": []
          },
          "execution_count": 27
        }
      ]
    },
    {
      "cell_type": "code",
      "metadata": {
        "colab": {
          "base_uri": "https://localhost:8080/",
          "height": 1000
        },
        "id": "-MhmkoKKD2Vf",
        "outputId": "5ed3de4f-d4e3-4add-cf67-b2c81712e2b3"
      },
      "source": [
        "petitions.loc[(petitions['duration'] == '30days') & (petitions['answer'] == 1)]"
      ],
      "execution_count": null,
      "outputs": [
        {
          "output_type": "execute_result",
          "data": {
            "text/html": [
              "<div>\n",
              "<style scoped>\n",
              "    .dataframe tbody tr th:only-of-type {\n",
              "        vertical-align: middle;\n",
              "    }\n",
              "\n",
              "    .dataframe tbody tr th {\n",
              "        vertical-align: top;\n",
              "    }\n",
              "\n",
              "    .dataframe thead th {\n",
              "        text-align: right;\n",
              "    }\n",
              "</style>\n",
              "<table border=\"1\" class=\"dataframe\">\n",
              "  <thead>\n",
              "    <tr style=\"text-align: right;\">\n",
              "      <th></th>\n",
              "      <th>start</th>\n",
              "      <th>end</th>\n",
              "      <th>answered</th>\n",
              "      <th>votes</th>\n",
              "      <th>category</th>\n",
              "      <th>title</th>\n",
              "      <th>content</th>\n",
              "      <th>answer</th>\n",
              "      <th>duration</th>\n",
              "    </tr>\n",
              "    <tr>\n",
              "      <th>article_id</th>\n",
              "      <th></th>\n",
              "      <th></th>\n",
              "      <th></th>\n",
              "      <th></th>\n",
              "      <th></th>\n",
              "      <th></th>\n",
              "      <th></th>\n",
              "      <th></th>\n",
              "      <th></th>\n",
              "    </tr>\n",
              "  </thead>\n",
              "  <tbody>\n",
              "    <tr>\n",
              "      <th>18278</th>\n",
              "      <td>2017-09-30</td>\n",
              "      <td>2017-10-30</td>\n",
              "      <td>1</td>\n",
              "      <td>235372</td>\n",
              "      <td>인권/성평등</td>\n",
              "      <td>낙태죄 폐지와 자연유산 유도약(미프진) 합법화 및 도입을 부탁드립니다.</td>\n",
              "      <td>안녕하세요. 존경하는 대통령님 의원님\\n낙태죄 폐지를 청원합니다.\\n현재 대한민국은...</td>\n",
              "      <td>True</td>\n",
              "      <td>30 days</td>\n",
              "    </tr>\n",
              "    <tr>\n",
              "      <th>26024</th>\n",
              "      <td>2017-11-04</td>\n",
              "      <td>2017-12-04</td>\n",
              "      <td>1</td>\n",
              "      <td>216774</td>\n",
              "      <td>안전/환경</td>\n",
              "      <td>'주취감형(술을 먹으면 형벌 감형)' 폐지를 건의(청원)합니다.</td>\n",
              "      <td>'주취감형'이란, 술을 먹고 범행을 저지를 때, 심신미약 (이성이 없고 우발적)이라...</td>\n",
              "      <td>True</td>\n",
              "      <td>30 days</td>\n",
              "    </tr>\n",
              "    <tr>\n",
              "      <th>45581</th>\n",
              "      <td>2017-11-17</td>\n",
              "      <td>2017-12-17</td>\n",
              "      <td>1</td>\n",
              "      <td>281985</td>\n",
              "      <td>보건복지</td>\n",
              "      <td>권역외상센터 (이국종 교수님) 추가적, 제도적, 환경적, 인력 지원</td>\n",
              "      <td>청원사항)\\n중증외상분야의 추가적, 제도적, 환경적, 인력 지원 방안마련\\n현 의료...</td>\n",
              "      <td>True</td>\n",
              "      <td>30 days</td>\n",
              "    </tr>\n",
              "    <tr>\n",
              "      <th>49083</th>\n",
              "      <td>2017-11-24</td>\n",
              "      <td>2017-12-24</td>\n",
              "      <td>1</td>\n",
              "      <td>211064</td>\n",
              "      <td>기타</td>\n",
              "      <td>전안법. 18살, 미성년자에게 정부가 직접 찍어주는 범죄자 낙인!</td>\n",
              "      <td>3년 이하의 징역, 또는3천만원 이하의 벌금. 혹은 500만원 이하의 과태료.\\n설...</td>\n",
              "      <td>True</td>\n",
              "      <td>30 days</td>\n",
              "    </tr>\n",
              "    <tr>\n",
              "      <th>57132</th>\n",
              "      <td>2017-12-03</td>\n",
              "      <td>2018-01-02</td>\n",
              "      <td>1</td>\n",
              "      <td>255554</td>\n",
              "      <td>성장동력</td>\n",
              "      <td>전안법 합리적으로 개정 또는 폐지해주세요.(소상공인 소비자 모두 죽는법안입니다.)</td>\n",
              "      <td>2017년 1월 28일부터 시행되는 법령으로 국가기술표준원에서 관리하는 전기제품에만...</td>\n",
              "      <td>True</td>\n",
              "      <td>30 days</td>\n",
              "    </tr>\n",
              "    <tr>\n",
              "      <th>...</th>\n",
              "      <td>...</td>\n",
              "      <td>...</td>\n",
              "      <td>...</td>\n",
              "      <td>...</td>\n",
              "      <td>...</td>\n",
              "      <td>...</td>\n",
              "      <td>...</td>\n",
              "      <td>...</td>\n",
              "      <td>...</td>\n",
              "    </tr>\n",
              "    <tr>\n",
              "      <th>454045</th>\n",
              "      <td>2018-11-27</td>\n",
              "      <td>2018-12-27</td>\n",
              "      <td>0</td>\n",
              "      <td>214251</td>\n",
              "      <td>반려동물</td>\n",
              "      <td>도살장에서 망치로 머리를 맞던 개가 잠시 튀어나가 옆에있는 자신의 새끼에게 젖물리며...</td>\n",
              "      <td>아래의 링크를 봐주세요\\n사람과 똑같이 자신의 자식을 귀히여기고 사람과 똑같이 죽는...</td>\n",
              "      <td>True</td>\n",
              "      <td>30 days</td>\n",
              "    </tr>\n",
              "    <tr>\n",
              "      <th>462340</th>\n",
              "      <td>2018-12-06</td>\n",
              "      <td>2019-01-05</td>\n",
              "      <td>0</td>\n",
              "      <td>221317</td>\n",
              "      <td>육아/교육</td>\n",
              "      <td>짐승보다 못한 위탁모 에게 굶기고 맞아죽은 15개월된 저희딸 얘기좀 들어주세요....</td>\n",
              "      <td>짐승 같은 위탁모(김모씨) 에게 맞아 죽은 15개월 된 저희 딸 서원이가 억울하게 ...</td>\n",
              "      <td>True</td>\n",
              "      <td>30 days</td>\n",
              "    </tr>\n",
              "    <tr>\n",
              "      <th>462623</th>\n",
              "      <td>2018-12-07</td>\n",
              "      <td>2019-01-06</td>\n",
              "      <td>0</td>\n",
              "      <td>243938</td>\n",
              "      <td>정치개혁</td>\n",
              "      <td>국회의원 내년 연봉 2000만원 인상 추진..최저임금 인상률보다 높은 14%.. 셀...</td>\n",
              "      <td>국회의원 내년 연봉 2000만원 인상 추진..최저임금 인상률보다 높은 14%로 인상...</td>\n",
              "      <td>True</td>\n",
              "      <td>30 days</td>\n",
              "    </tr>\n",
              "    <tr>\n",
              "      <th>472309</th>\n",
              "      <td>2018-12-18</td>\n",
              "      <td>2019-01-17</td>\n",
              "      <td>0</td>\n",
              "      <td>269110</td>\n",
              "      <td>인권/성평등</td>\n",
              "      <td>조재범 코치를 강력처벌해주세요</td>\n",
              "      <td>그는 국가대표 심석희 외 다수의 여자선수들을 지속적으로 적어도 14년간 폭행해온 쓰...</td>\n",
              "      <td>True</td>\n",
              "      <td>30 days</td>\n",
              "    </tr>\n",
              "    <tr>\n",
              "      <th>489302</th>\n",
              "      <td>2019-01-07</td>\n",
              "      <td>2019-02-06</td>\n",
              "      <td>0</td>\n",
              "      <td>302856</td>\n",
              "      <td>정치개혁</td>\n",
              "      <td>여.야는 속히 공수처 신설하라 !!!</td>\n",
              "      <td>지금 대한 민국은 나라를 바로 잡기 위해 반드시 이번 정부내에 검찰과 법원의 확실한...</td>\n",
              "      <td>True</td>\n",
              "      <td>30 days</td>\n",
              "    </tr>\n",
              "  </tbody>\n",
              "</table>\n",
              "<p>75 rows × 9 columns</p>\n",
              "</div>"
            ],
            "text/plain": [
              "                start        end  ...  answer  duration\n",
              "article_id                        ...                  \n",
              "18278      2017-09-30 2017-10-30  ...    True   30 days\n",
              "26024      2017-11-04 2017-12-04  ...    True   30 days\n",
              "45581      2017-11-17 2017-12-17  ...    True   30 days\n",
              "49083      2017-11-24 2017-12-24  ...    True   30 days\n",
              "57132      2017-12-03 2018-01-02  ...    True   30 days\n",
              "...               ...        ...  ...     ...       ...\n",
              "454045     2018-11-27 2018-12-27  ...    True   30 days\n",
              "462340     2018-12-06 2019-01-05  ...    True   30 days\n",
              "462623     2018-12-07 2019-01-06  ...    True   30 days\n",
              "472309     2018-12-18 2019-01-17  ...    True   30 days\n",
              "489302     2019-01-07 2019-02-06  ...    True   30 days\n",
              "\n",
              "[75 rows x 9 columns]"
            ]
          },
          "metadata": {
            "tags": []
          },
          "execution_count": 28
        }
      ]
    },
    {
      "cell_type": "markdown",
      "metadata": {
        "id": "SF8iCjxOGf1P"
      },
      "source": [
        "###청원이 가장 많이 들어온 분야"
      ]
    },
    {
      "cell_type": "code",
      "metadata": {
        "colab": {
          "base_uri": "https://localhost:8080/",
          "height": 550
        },
        "id": "1PdqUHAsEAAc",
        "outputId": "f25a057d-7270-4189-e386-ede28e10bb0d"
      },
      "source": [
        "category = pd.DataFrame(petitions['category'].value_counts()).reset_index()\r\n",
        "category.columns = ['category', 'counts']\r\n",
        "category"
      ],
      "execution_count": null,
      "outputs": [
        {
          "output_type": "execute_result",
          "data": {
            "text/html": [
              "<div>\n",
              "<style scoped>\n",
              "    .dataframe tbody tr th:only-of-type {\n",
              "        vertical-align: middle;\n",
              "    }\n",
              "\n",
              "    .dataframe tbody tr th {\n",
              "        vertical-align: top;\n",
              "    }\n",
              "\n",
              "    .dataframe thead th {\n",
              "        text-align: right;\n",
              "    }\n",
              "</style>\n",
              "<table border=\"1\" class=\"dataframe\">\n",
              "  <thead>\n",
              "    <tr style=\"text-align: right;\">\n",
              "      <th></th>\n",
              "      <th>category</th>\n",
              "      <th>counts</th>\n",
              "    </tr>\n",
              "  </thead>\n",
              "  <tbody>\n",
              "    <tr>\n",
              "      <th>0</th>\n",
              "      <td>정치개혁</td>\n",
              "      <td>59020</td>\n",
              "    </tr>\n",
              "    <tr>\n",
              "      <th>1</th>\n",
              "      <td>기타</td>\n",
              "      <td>46449</td>\n",
              "    </tr>\n",
              "    <tr>\n",
              "      <th>2</th>\n",
              "      <td>인권/성평등</td>\n",
              "      <td>33738</td>\n",
              "    </tr>\n",
              "    <tr>\n",
              "      <th>3</th>\n",
              "      <td>안전/환경</td>\n",
              "      <td>29196</td>\n",
              "    </tr>\n",
              "    <tr>\n",
              "      <th>4</th>\n",
              "      <td>교통/건축/국토</td>\n",
              "      <td>26910</td>\n",
              "    </tr>\n",
              "    <tr>\n",
              "      <th>5</th>\n",
              "      <td>외교/통일/국방</td>\n",
              "      <td>25705</td>\n",
              "    </tr>\n",
              "    <tr>\n",
              "      <th>6</th>\n",
              "      <td>육아/교육</td>\n",
              "      <td>24861</td>\n",
              "    </tr>\n",
              "    <tr>\n",
              "      <th>7</th>\n",
              "      <td>보건복지</td>\n",
              "      <td>23608</td>\n",
              "    </tr>\n",
              "    <tr>\n",
              "      <th>8</th>\n",
              "      <td>일자리</td>\n",
              "      <td>22111</td>\n",
              "    </tr>\n",
              "    <tr>\n",
              "      <th>9</th>\n",
              "      <td>행정</td>\n",
              "      <td>19373</td>\n",
              "    </tr>\n",
              "    <tr>\n",
              "      <th>10</th>\n",
              "      <td>문화/예술/체육/언론</td>\n",
              "      <td>17257</td>\n",
              "    </tr>\n",
              "    <tr>\n",
              "      <th>11</th>\n",
              "      <td>미래</td>\n",
              "      <td>17190</td>\n",
              "    </tr>\n",
              "    <tr>\n",
              "      <th>12</th>\n",
              "      <td>경제민주화</td>\n",
              "      <td>16281</td>\n",
              "    </tr>\n",
              "    <tr>\n",
              "      <th>13</th>\n",
              "      <td>성장동력</td>\n",
              "      <td>6991</td>\n",
              "    </tr>\n",
              "    <tr>\n",
              "      <th>14</th>\n",
              "      <td>반려동물</td>\n",
              "      <td>3827</td>\n",
              "    </tr>\n",
              "    <tr>\n",
              "      <th>15</th>\n",
              "      <td>저출산/고령화대책</td>\n",
              "      <td>3461</td>\n",
              "    </tr>\n",
              "    <tr>\n",
              "      <th>16</th>\n",
              "      <td>농산어촌</td>\n",
              "      <td>1778</td>\n",
              "    </tr>\n",
              "  </tbody>\n",
              "</table>\n",
              "</div>"
            ],
            "text/plain": [
              "       category  counts\n",
              "0          정치개혁   59020\n",
              "1            기타   46449\n",
              "2        인권/성평등   33738\n",
              "3         안전/환경   29196\n",
              "4      교통/건축/국토   26910\n",
              "5      외교/통일/국방   25705\n",
              "6         육아/교육   24861\n",
              "7          보건복지   23608\n",
              "8           일자리   22111\n",
              "9            행정   19373\n",
              "10  문화/예술/체육/언론   17257\n",
              "11           미래   17190\n",
              "12        경제민주화   16281\n",
              "13         성장동력    6991\n",
              "14         반려동물    3827\n",
              "15    저출산/고령화대책    3461\n",
              "16         농산어촌    1778"
            ]
          },
          "metadata": {
            "tags": []
          },
          "execution_count": 29
        }
      ]
    },
    {
      "cell_type": "code",
      "metadata": {
        "colab": {
          "base_uri": "https://localhost:8080/",
          "height": 213
        },
        "id": "HwKJWwudGqFx",
        "outputId": "fc7e1df5-610b-43cd-f98a-7e92b31034d6"
      },
      "source": [
        "start_df = pd.DataFrame(petitions['start'].value_counts()).reset_index()\r\n",
        "start_df.columns = ['start', 'counts']\r\n",
        "start_df = start_df.sort_values('counts', ascending=False)\r\n",
        "print('청원 집계: {}일'.format(start_df.shape[0]))\r\n",
        "start_df.head()"
      ],
      "execution_count": null,
      "outputs": [
        {
          "output_type": "stream",
          "text": [
            "청원 집계: 509일\n"
          ],
          "name": "stdout"
        },
        {
          "output_type": "execute_result",
          "data": {
            "text/html": [
              "<div>\n",
              "<style scoped>\n",
              "    .dataframe tbody tr th:only-of-type {\n",
              "        vertical-align: middle;\n",
              "    }\n",
              "\n",
              "    .dataframe tbody tr th {\n",
              "        vertical-align: top;\n",
              "    }\n",
              "\n",
              "    .dataframe thead th {\n",
              "        text-align: right;\n",
              "    }\n",
              "</style>\n",
              "<table border=\"1\" class=\"dataframe\">\n",
              "  <thead>\n",
              "    <tr style=\"text-align: right;\">\n",
              "      <th></th>\n",
              "      <th>start</th>\n",
              "      <th>counts</th>\n",
              "    </tr>\n",
              "  </thead>\n",
              "  <tbody>\n",
              "    <tr>\n",
              "      <th>0</th>\n",
              "      <td>2017-11-11</td>\n",
              "      <td>9623</td>\n",
              "    </tr>\n",
              "    <tr>\n",
              "      <th>1</th>\n",
              "      <td>2017-09-05</td>\n",
              "      <td>5952</td>\n",
              "    </tr>\n",
              "    <tr>\n",
              "      <th>2</th>\n",
              "      <td>2018-01-11</td>\n",
              "      <td>3368</td>\n",
              "    </tr>\n",
              "    <tr>\n",
              "      <th>3</th>\n",
              "      <td>2018-02-06</td>\n",
              "      <td>2631</td>\n",
              "    </tr>\n",
              "    <tr>\n",
              "      <th>4</th>\n",
              "      <td>2017-11-09</td>\n",
              "      <td>2487</td>\n",
              "    </tr>\n",
              "  </tbody>\n",
              "</table>\n",
              "</div>"
            ],
            "text/plain": [
              "       start  counts\n",
              "0 2017-11-11    9623\n",
              "1 2017-09-05    5952\n",
              "2 2018-01-11    3368\n",
              "3 2018-02-06    2631\n",
              "4 2017-11-09    2487"
            ]
          },
          "metadata": {
            "tags": []
          },
          "execution_count": 34
        }
      ]
    },
    {
      "cell_type": "markdown",
      "metadata": {
        "id": "P1Mw5VOhKRd7"
      },
      "source": [
        "###피벗 테이블로 가장 투표를 많이 받은 분야 보기"
      ]
    },
    {
      "cell_type": "code",
      "metadata": {
        "colab": {
          "base_uri": "https://localhost:8080/",
          "height": 550
        },
        "id": "vbbskwixHBhY",
        "outputId": "9a7cc8dd-b7e7-495f-fc3d-8a578b590af1"
      },
      "source": [
        "petitions_unique = pd.pivot_table(petitions, index=['category'], aggfunc=np.sum)\r\n",
        "petitions_best = petitions_unique.sort_values(by='votes', ascending=False).reset_index()\r\n",
        "petitions_best"
      ],
      "execution_count": null,
      "outputs": [
        {
          "output_type": "execute_result",
          "data": {
            "text/html": [
              "<div>\n",
              "<style scoped>\n",
              "    .dataframe tbody tr th:only-of-type {\n",
              "        vertical-align: middle;\n",
              "    }\n",
              "\n",
              "    .dataframe tbody tr th {\n",
              "        vertical-align: top;\n",
              "    }\n",
              "\n",
              "    .dataframe thead th {\n",
              "        text-align: right;\n",
              "    }\n",
              "</style>\n",
              "<table border=\"1\" class=\"dataframe\">\n",
              "  <thead>\n",
              "    <tr style=\"text-align: right;\">\n",
              "      <th></th>\n",
              "      <th>category</th>\n",
              "      <th>answer</th>\n",
              "      <th>answered</th>\n",
              "      <th>votes</th>\n",
              "    </tr>\n",
              "  </thead>\n",
              "  <tbody>\n",
              "    <tr>\n",
              "      <th>0</th>\n",
              "      <td>인권/성평등</td>\n",
              "      <td>23</td>\n",
              "      <td>9</td>\n",
              "      <td>12225998</td>\n",
              "    </tr>\n",
              "    <tr>\n",
              "      <th>1</th>\n",
              "      <td>안전/환경</td>\n",
              "      <td>10</td>\n",
              "      <td>2</td>\n",
              "      <td>6512799</td>\n",
              "    </tr>\n",
              "    <tr>\n",
              "      <th>2</th>\n",
              "      <td>정치개혁</td>\n",
              "      <td>7</td>\n",
              "      <td>2</td>\n",
              "      <td>5686172</td>\n",
              "    </tr>\n",
              "    <tr>\n",
              "      <th>3</th>\n",
              "      <td>기타</td>\n",
              "      <td>7</td>\n",
              "      <td>1</td>\n",
              "      <td>4720310</td>\n",
              "    </tr>\n",
              "    <tr>\n",
              "      <th>4</th>\n",
              "      <td>육아/교육</td>\n",
              "      <td>3</td>\n",
              "      <td>1</td>\n",
              "      <td>4420589</td>\n",
              "    </tr>\n",
              "    <tr>\n",
              "      <th>5</th>\n",
              "      <td>보건복지</td>\n",
              "      <td>3</td>\n",
              "      <td>2</td>\n",
              "      <td>4269399</td>\n",
              "    </tr>\n",
              "    <tr>\n",
              "      <th>6</th>\n",
              "      <td>문화/예술/체육/언론</td>\n",
              "      <td>7</td>\n",
              "      <td>4</td>\n",
              "      <td>4086382</td>\n",
              "    </tr>\n",
              "    <tr>\n",
              "      <th>7</th>\n",
              "      <td>외교/통일/국방</td>\n",
              "      <td>4</td>\n",
              "      <td>1</td>\n",
              "      <td>3637926</td>\n",
              "    </tr>\n",
              "    <tr>\n",
              "      <th>8</th>\n",
              "      <td>교통/건축/국토</td>\n",
              "      <td>3</td>\n",
              "      <td>2</td>\n",
              "      <td>2834727</td>\n",
              "    </tr>\n",
              "    <tr>\n",
              "      <th>9</th>\n",
              "      <td>반려동물</td>\n",
              "      <td>4</td>\n",
              "      <td>0</td>\n",
              "      <td>2023905</td>\n",
              "    </tr>\n",
              "    <tr>\n",
              "      <th>10</th>\n",
              "      <td>경제민주화</td>\n",
              "      <td>2</td>\n",
              "      <td>1</td>\n",
              "      <td>1720766</td>\n",
              "    </tr>\n",
              "    <tr>\n",
              "      <th>11</th>\n",
              "      <td>행정</td>\n",
              "      <td>1</td>\n",
              "      <td>1</td>\n",
              "      <td>1665855</td>\n",
              "    </tr>\n",
              "    <tr>\n",
              "      <th>12</th>\n",
              "      <td>미래</td>\n",
              "      <td>1</td>\n",
              "      <td>1</td>\n",
              "      <td>1120174</td>\n",
              "    </tr>\n",
              "    <tr>\n",
              "      <th>13</th>\n",
              "      <td>일자리</td>\n",
              "      <td>0</td>\n",
              "      <td>0</td>\n",
              "      <td>1113973</td>\n",
              "    </tr>\n",
              "    <tr>\n",
              "      <th>14</th>\n",
              "      <td>성장동력</td>\n",
              "      <td>2</td>\n",
              "      <td>2</td>\n",
              "      <td>866240</td>\n",
              "    </tr>\n",
              "    <tr>\n",
              "      <th>15</th>\n",
              "      <td>저출산/고령화대책</td>\n",
              "      <td>0</td>\n",
              "      <td>0</td>\n",
              "      <td>174841</td>\n",
              "    </tr>\n",
              "    <tr>\n",
              "      <th>16</th>\n",
              "      <td>농산어촌</td>\n",
              "      <td>0</td>\n",
              "      <td>0</td>\n",
              "      <td>114822</td>\n",
              "    </tr>\n",
              "  </tbody>\n",
              "</table>\n",
              "</div>"
            ],
            "text/plain": [
              "       category  answer  answered     votes\n",
              "0        인권/성평등      23         9  12225998\n",
              "1         안전/환경      10         2   6512799\n",
              "2          정치개혁       7         2   5686172\n",
              "3            기타       7         1   4720310\n",
              "4         육아/교육       3         1   4420589\n",
              "5          보건복지       3         2   4269399\n",
              "6   문화/예술/체육/언론       7         4   4086382\n",
              "7      외교/통일/국방       4         1   3637926\n",
              "8      교통/건축/국토       3         2   2834727\n",
              "9          반려동물       4         0   2023905\n",
              "10        경제민주화       2         1   1720766\n",
              "11           행정       1         1   1665855\n",
              "12           미래       1         1   1120174\n",
              "13          일자리       0         0   1113973\n",
              "14         성장동력       2         2    866240\n",
              "15    저출산/고령화대책       0         0    174841\n",
              "16         농산어촌       0         0    114822"
            ]
          },
          "metadata": {
            "tags": []
          },
          "execution_count": 35
        }
      ]
    },
    {
      "cell_type": "markdown",
      "metadata": {
        "id": "4TKCTpYcKxi9"
      },
      "source": [
        "###투표를 가장 많이 받은 날"
      ]
    },
    {
      "cell_type": "code",
      "metadata": {
        "colab": {
          "base_uri": "https://localhost:8080/",
          "height": 1000
        },
        "id": "l81k6DrdKtzX",
        "outputId": "781a6a12-3928-499d-c7c0-60391b0272a0"
      },
      "source": [
        "petitions_start = pd.pivot_table(petitions, index=['start'], aggfunc=np.sum)\r\n",
        "votes_df = petitions_start.sort_values(by='votes', ascending=False)\r\n",
        "votes_df.loc[petitions_start['votes'] > 350000]"
      ],
      "execution_count": null,
      "outputs": [
        {
          "output_type": "execute_result",
          "data": {
            "text/html": [
              "<div>\n",
              "<style scoped>\n",
              "    .dataframe tbody tr th:only-of-type {\n",
              "        vertical-align: middle;\n",
              "    }\n",
              "\n",
              "    .dataframe tbody tr th {\n",
              "        vertical-align: top;\n",
              "    }\n",
              "\n",
              "    .dataframe thead th {\n",
              "        text-align: right;\n",
              "    }\n",
              "</style>\n",
              "<table border=\"1\" class=\"dataframe\">\n",
              "  <thead>\n",
              "    <tr style=\"text-align: right;\">\n",
              "      <th></th>\n",
              "      <th>answer</th>\n",
              "      <th>answered</th>\n",
              "      <th>votes</th>\n",
              "    </tr>\n",
              "    <tr>\n",
              "      <th>start</th>\n",
              "      <th></th>\n",
              "      <th></th>\n",
              "      <th></th>\n",
              "    </tr>\n",
              "  </thead>\n",
              "  <tbody>\n",
              "    <tr>\n",
              "      <th>2018-10-17</th>\n",
              "      <td>1</td>\n",
              "      <td>0</td>\n",
              "      <td>1300523</td>\n",
              "    </tr>\n",
              "    <tr>\n",
              "      <th>2018-10-31</th>\n",
              "      <td>2</td>\n",
              "      <td>0</td>\n",
              "      <td>827096</td>\n",
              "    </tr>\n",
              "    <tr>\n",
              "      <th>2018-06-13</th>\n",
              "      <td>1</td>\n",
              "      <td>0</td>\n",
              "      <td>786157</td>\n",
              "    </tr>\n",
              "    <tr>\n",
              "      <th>2018-10-18</th>\n",
              "      <td>2</td>\n",
              "      <td>0</td>\n",
              "      <td>721524</td>\n",
              "    </tr>\n",
              "    <tr>\n",
              "      <th>2018-02-19</th>\n",
              "      <td>1</td>\n",
              "      <td>1</td>\n",
              "      <td>701520</td>\n",
              "    </tr>\n",
              "    <tr>\n",
              "      <th>2018-11-09</th>\n",
              "      <td>2</td>\n",
              "      <td>0</td>\n",
              "      <td>672819</td>\n",
              "    </tr>\n",
              "    <tr>\n",
              "      <th>2018-07-22</th>\n",
              "      <td>1</td>\n",
              "      <td>0</td>\n",
              "      <td>672491</td>\n",
              "    </tr>\n",
              "    <tr>\n",
              "      <th>2017-09-06</th>\n",
              "      <td>1</td>\n",
              "      <td>1</td>\n",
              "      <td>648209</td>\n",
              "    </tr>\n",
              "    <tr>\n",
              "      <th>2018-06-24</th>\n",
              "      <td>2</td>\n",
              "      <td>0</td>\n",
              "      <td>628925</td>\n",
              "    </tr>\n",
              "    <tr>\n",
              "      <th>2018-10-04</th>\n",
              "      <td>2</td>\n",
              "      <td>1</td>\n",
              "      <td>626761</td>\n",
              "    </tr>\n",
              "    <tr>\n",
              "      <th>2018-02-23</th>\n",
              "      <td>2</td>\n",
              "      <td>2</td>\n",
              "      <td>608530</td>\n",
              "    </tr>\n",
              "    <tr>\n",
              "      <th>2018-05-18</th>\n",
              "      <td>1</td>\n",
              "      <td>0</td>\n",
              "      <td>574483</td>\n",
              "    </tr>\n",
              "    <tr>\n",
              "      <th>2018-05-11</th>\n",
              "      <td>1</td>\n",
              "      <td>1</td>\n",
              "      <td>556549</td>\n",
              "    </tr>\n",
              "    <tr>\n",
              "      <th>2018-05-25</th>\n",
              "      <td>2</td>\n",
              "      <td>0</td>\n",
              "      <td>514253</td>\n",
              "    </tr>\n",
              "    <tr>\n",
              "      <th>2018-11-14</th>\n",
              "      <td>1</td>\n",
              "      <td>0</td>\n",
              "      <td>469027</td>\n",
              "    </tr>\n",
              "    <tr>\n",
              "      <th>2018-06-17</th>\n",
              "      <td>2</td>\n",
              "      <td>0</td>\n",
              "      <td>468341</td>\n",
              "    </tr>\n",
              "    <tr>\n",
              "      <th>2018-07-03</th>\n",
              "      <td>1</td>\n",
              "      <td>0</td>\n",
              "      <td>467132</td>\n",
              "    </tr>\n",
              "    <tr>\n",
              "      <th>2018-04-17</th>\n",
              "      <td>1</td>\n",
              "      <td>1</td>\n",
              "      <td>446950</td>\n",
              "    </tr>\n",
              "    <tr>\n",
              "      <th>2018-05-02</th>\n",
              "      <td>1</td>\n",
              "      <td>0</td>\n",
              "      <td>445493</td>\n",
              "    </tr>\n",
              "    <tr>\n",
              "      <th>2018-10-02</th>\n",
              "      <td>1</td>\n",
              "      <td>1</td>\n",
              "      <td>437841</td>\n",
              "    </tr>\n",
              "    <tr>\n",
              "      <th>2017-09-03</th>\n",
              "      <td>1</td>\n",
              "      <td>1</td>\n",
              "      <td>433356</td>\n",
              "    </tr>\n",
              "    <tr>\n",
              "      <th>2018-06-14</th>\n",
              "      <td>1</td>\n",
              "      <td>1</td>\n",
              "      <td>403351</td>\n",
              "    </tr>\n",
              "    <tr>\n",
              "      <th>2018-01-20</th>\n",
              "      <td>1</td>\n",
              "      <td>1</td>\n",
              "      <td>399683</td>\n",
              "    </tr>\n",
              "    <tr>\n",
              "      <th>2017-11-17</th>\n",
              "      <td>1</td>\n",
              "      <td>1</td>\n",
              "      <td>393348</td>\n",
              "    </tr>\n",
              "    <tr>\n",
              "      <th>2017-11-24</th>\n",
              "      <td>1</td>\n",
              "      <td>1</td>\n",
              "      <td>392782</td>\n",
              "    </tr>\n",
              "    <tr>\n",
              "      <th>2018-12-07</th>\n",
              "      <td>1</td>\n",
              "      <td>0</td>\n",
              "      <td>387305</td>\n",
              "    </tr>\n",
              "    <tr>\n",
              "      <th>2018-03-24</th>\n",
              "      <td>1</td>\n",
              "      <td>0</td>\n",
              "      <td>385480</td>\n",
              "    </tr>\n",
              "    <tr>\n",
              "      <th>2018-09-06</th>\n",
              "      <td>1</td>\n",
              "      <td>0</td>\n",
              "      <td>383145</td>\n",
              "    </tr>\n",
              "    <tr>\n",
              "      <th>2018-03-03</th>\n",
              "      <td>1</td>\n",
              "      <td>1</td>\n",
              "      <td>380016</td>\n",
              "    </tr>\n",
              "    <tr>\n",
              "      <th>2018-01-15</th>\n",
              "      <td>1</td>\n",
              "      <td>1</td>\n",
              "      <td>376187</td>\n",
              "    </tr>\n",
              "    <tr>\n",
              "      <th>2018-04-16</th>\n",
              "      <td>1</td>\n",
              "      <td>0</td>\n",
              "      <td>369318</td>\n",
              "    </tr>\n",
              "    <tr>\n",
              "      <th>2018-01-25</th>\n",
              "      <td>1</td>\n",
              "      <td>1</td>\n",
              "      <td>364926</td>\n",
              "    </tr>\n",
              "    <tr>\n",
              "      <th>2019-01-07</th>\n",
              "      <td>1</td>\n",
              "      <td>0</td>\n",
              "      <td>352139</td>\n",
              "    </tr>\n",
              "  </tbody>\n",
              "</table>\n",
              "</div>"
            ],
            "text/plain": [
              "            answer  answered    votes\n",
              "start                                \n",
              "2018-10-17       1         0  1300523\n",
              "2018-10-31       2         0   827096\n",
              "2018-06-13       1         0   786157\n",
              "2018-10-18       2         0   721524\n",
              "2018-02-19       1         1   701520\n",
              "2018-11-09       2         0   672819\n",
              "2018-07-22       1         0   672491\n",
              "2017-09-06       1         1   648209\n",
              "2018-06-24       2         0   628925\n",
              "2018-10-04       2         1   626761\n",
              "2018-02-23       2         2   608530\n",
              "2018-05-18       1         0   574483\n",
              "2018-05-11       1         1   556549\n",
              "2018-05-25       2         0   514253\n",
              "2018-11-14       1         0   469027\n",
              "2018-06-17       2         0   468341\n",
              "2018-07-03       1         0   467132\n",
              "2018-04-17       1         1   446950\n",
              "2018-05-02       1         0   445493\n",
              "2018-10-02       1         1   437841\n",
              "2017-09-03       1         1   433356\n",
              "2018-06-14       1         1   403351\n",
              "2018-01-20       1         1   399683\n",
              "2017-11-17       1         1   393348\n",
              "2017-11-24       1         1   392782\n",
              "2018-12-07       1         0   387305\n",
              "2018-03-24       1         0   385480\n",
              "2018-09-06       1         0   383145\n",
              "2018-03-03       1         1   380016\n",
              "2018-01-15       1         1   376187\n",
              "2018-04-16       1         0   369318\n",
              "2018-01-25       1         1   364926\n",
              "2019-01-07       1         0   352139"
            ]
          },
          "metadata": {
            "tags": []
          },
          "execution_count": 37
        }
      ]
    },
    {
      "cell_type": "markdown",
      "metadata": {
        "id": "zwRXXmAGL_oa"
      },
      "source": [
        "### 청원을 많이 받은 날 vs 투표를 많이 받은 날"
      ]
    },
    {
      "cell_type": "code",
      "metadata": {
        "colab": {
          "base_uri": "https://localhost:8080/",
          "height": 195
        },
        "id": "V88o5-7FLByg",
        "outputId": "25787421-9fbe-4e54-9729-bcd0c9b1787b"
      },
      "source": [
        "votes_df = votes_df.reset_index()\r\n",
        "votes_df.head()"
      ],
      "execution_count": null,
      "outputs": [
        {
          "output_type": "execute_result",
          "data": {
            "text/html": [
              "<div>\n",
              "<style scoped>\n",
              "    .dataframe tbody tr th:only-of-type {\n",
              "        vertical-align: middle;\n",
              "    }\n",
              "\n",
              "    .dataframe tbody tr th {\n",
              "        vertical-align: top;\n",
              "    }\n",
              "\n",
              "    .dataframe thead th {\n",
              "        text-align: right;\n",
              "    }\n",
              "</style>\n",
              "<table border=\"1\" class=\"dataframe\">\n",
              "  <thead>\n",
              "    <tr style=\"text-align: right;\">\n",
              "      <th></th>\n",
              "      <th>start</th>\n",
              "      <th>answer</th>\n",
              "      <th>answered</th>\n",
              "      <th>votes</th>\n",
              "    </tr>\n",
              "  </thead>\n",
              "  <tbody>\n",
              "    <tr>\n",
              "      <th>0</th>\n",
              "      <td>2018-10-17</td>\n",
              "      <td>1</td>\n",
              "      <td>0</td>\n",
              "      <td>1300523</td>\n",
              "    </tr>\n",
              "    <tr>\n",
              "      <th>1</th>\n",
              "      <td>2018-10-31</td>\n",
              "      <td>2</td>\n",
              "      <td>0</td>\n",
              "      <td>827096</td>\n",
              "    </tr>\n",
              "    <tr>\n",
              "      <th>2</th>\n",
              "      <td>2018-06-13</td>\n",
              "      <td>1</td>\n",
              "      <td>0</td>\n",
              "      <td>786157</td>\n",
              "    </tr>\n",
              "    <tr>\n",
              "      <th>3</th>\n",
              "      <td>2018-10-18</td>\n",
              "      <td>2</td>\n",
              "      <td>0</td>\n",
              "      <td>721524</td>\n",
              "    </tr>\n",
              "    <tr>\n",
              "      <th>4</th>\n",
              "      <td>2018-02-19</td>\n",
              "      <td>1</td>\n",
              "      <td>1</td>\n",
              "      <td>701520</td>\n",
              "    </tr>\n",
              "  </tbody>\n",
              "</table>\n",
              "</div>"
            ],
            "text/plain": [
              "       start  answer  answered    votes\n",
              "0 2018-10-17       1         0  1300523\n",
              "1 2018-10-31       2         0   827096\n",
              "2 2018-06-13       1         0   786157\n",
              "3 2018-10-18       2         0   721524\n",
              "4 2018-02-19       1         1   701520"
            ]
          },
          "metadata": {
            "tags": []
          },
          "execution_count": 39
        }
      ]
    },
    {
      "cell_type": "code",
      "metadata": {
        "colab": {
          "base_uri": "https://localhost:8080/",
          "height": 195
        },
        "id": "vO40BchPLoor",
        "outputId": "88af6b79-c84a-4cc5-bc39-e2c2d21208a3"
      },
      "source": [
        "hottest_day_df = start_df.merge(votes_df, on='start', how='left')\r\n",
        "hottest_day_df.sort_values('votes', ascending=False)[:5]"
      ],
      "execution_count": null,
      "outputs": [
        {
          "output_type": "execute_result",
          "data": {
            "text/html": [
              "<div>\n",
              "<style scoped>\n",
              "    .dataframe tbody tr th:only-of-type {\n",
              "        vertical-align: middle;\n",
              "    }\n",
              "\n",
              "    .dataframe tbody tr th {\n",
              "        vertical-align: top;\n",
              "    }\n",
              "\n",
              "    .dataframe thead th {\n",
              "        text-align: right;\n",
              "    }\n",
              "</style>\n",
              "<table border=\"1\" class=\"dataframe\">\n",
              "  <thead>\n",
              "    <tr style=\"text-align: right;\">\n",
              "      <th></th>\n",
              "      <th>start</th>\n",
              "      <th>counts</th>\n",
              "      <th>answer</th>\n",
              "      <th>answered</th>\n",
              "      <th>votes</th>\n",
              "    </tr>\n",
              "  </thead>\n",
              "  <tbody>\n",
              "    <tr>\n",
              "      <th>113</th>\n",
              "      <td>2018-10-17</td>\n",
              "      <td>926</td>\n",
              "      <td>1</td>\n",
              "      <td>0</td>\n",
              "      <td>1300523</td>\n",
              "    </tr>\n",
              "    <tr>\n",
              "      <th>80</th>\n",
              "      <td>2018-10-31</td>\n",
              "      <td>1010</td>\n",
              "      <td>2</td>\n",
              "      <td>0</td>\n",
              "      <td>827096</td>\n",
              "    </tr>\n",
              "    <tr>\n",
              "      <th>365</th>\n",
              "      <td>2018-06-13</td>\n",
              "      <td>542</td>\n",
              "      <td>1</td>\n",
              "      <td>0</td>\n",
              "      <td>786157</td>\n",
              "    </tr>\n",
              "    <tr>\n",
              "      <th>74</th>\n",
              "      <td>2018-10-18</td>\n",
              "      <td>1032</td>\n",
              "      <td>2</td>\n",
              "      <td>0</td>\n",
              "      <td>721524</td>\n",
              "    </tr>\n",
              "    <tr>\n",
              "      <th>258</th>\n",
              "      <td>2018-02-19</td>\n",
              "      <td>698</td>\n",
              "      <td>1</td>\n",
              "      <td>1</td>\n",
              "      <td>701520</td>\n",
              "    </tr>\n",
              "  </tbody>\n",
              "</table>\n",
              "</div>"
            ],
            "text/plain": [
              "         start  counts  answer  answered    votes\n",
              "113 2018-10-17     926       1         0  1300523\n",
              "80  2018-10-31    1010       2         0   827096\n",
              "365 2018-06-13     542       1         0   786157\n",
              "74  2018-10-18    1032       2         0   721524\n",
              "258 2018-02-19     698       1         1   701520"
            ]
          },
          "metadata": {
            "tags": []
          },
          "execution_count": 40
        }
      ]
    },
    {
      "cell_type": "code",
      "metadata": {
        "colab": {
          "base_uri": "https://localhost:8080/",
          "height": 195
        },
        "id": "0oj0q8euPDkF",
        "outputId": "70d30592-2902-4be9-a986-071d28e8fd21"
      },
      "source": [
        "hottest_day_df.sort_values('counts', ascending=False)[:5]"
      ],
      "execution_count": null,
      "outputs": [
        {
          "output_type": "execute_result",
          "data": {
            "text/html": [
              "<div>\n",
              "<style scoped>\n",
              "    .dataframe tbody tr th:only-of-type {\n",
              "        vertical-align: middle;\n",
              "    }\n",
              "\n",
              "    .dataframe tbody tr th {\n",
              "        vertical-align: top;\n",
              "    }\n",
              "\n",
              "    .dataframe thead th {\n",
              "        text-align: right;\n",
              "    }\n",
              "</style>\n",
              "<table border=\"1\" class=\"dataframe\">\n",
              "  <thead>\n",
              "    <tr style=\"text-align: right;\">\n",
              "      <th></th>\n",
              "      <th>start</th>\n",
              "      <th>counts</th>\n",
              "      <th>answer</th>\n",
              "      <th>answered</th>\n",
              "      <th>votes</th>\n",
              "    </tr>\n",
              "  </thead>\n",
              "  <tbody>\n",
              "    <tr>\n",
              "      <th>0</th>\n",
              "      <td>2017-11-11</td>\n",
              "      <td>9623</td>\n",
              "      <td>0</td>\n",
              "      <td>0</td>\n",
              "      <td>85074</td>\n",
              "    </tr>\n",
              "    <tr>\n",
              "      <th>1</th>\n",
              "      <td>2017-09-05</td>\n",
              "      <td>5952</td>\n",
              "      <td>0</td>\n",
              "      <td>0</td>\n",
              "      <td>48808</td>\n",
              "    </tr>\n",
              "    <tr>\n",
              "      <th>2</th>\n",
              "      <td>2018-01-11</td>\n",
              "      <td>3368</td>\n",
              "      <td>0</td>\n",
              "      <td>0</td>\n",
              "      <td>44570</td>\n",
              "    </tr>\n",
              "    <tr>\n",
              "      <th>3</th>\n",
              "      <td>2018-02-06</td>\n",
              "      <td>2631</td>\n",
              "      <td>0</td>\n",
              "      <td>0</td>\n",
              "      <td>83038</td>\n",
              "    </tr>\n",
              "    <tr>\n",
              "      <th>4</th>\n",
              "      <td>2017-11-09</td>\n",
              "      <td>2487</td>\n",
              "      <td>0</td>\n",
              "      <td>0</td>\n",
              "      <td>34774</td>\n",
              "    </tr>\n",
              "  </tbody>\n",
              "</table>\n",
              "</div>"
            ],
            "text/plain": [
              "       start  counts  answer  answered  votes\n",
              "0 2017-11-11    9623       0         0  85074\n",
              "1 2017-09-05    5952       0         0  48808\n",
              "2 2018-01-11    3368       0         0  44570\n",
              "3 2018-02-06    2631       0         0  83038\n",
              "4 2017-11-09    2487       0         0  34774"
            ]
          },
          "metadata": {
            "tags": []
          },
          "execution_count": 41
        }
      ]
    },
    {
      "cell_type": "markdown",
      "metadata": {
        "id": "jjoKHhcOPLyR"
      },
      "source": [
        "###답변 대상 청원"
      ]
    },
    {
      "cell_type": "code",
      "metadata": {
        "colab": {
          "base_uri": "https://localhost:8080/"
        },
        "id": "0BTZ5aaRPH21",
        "outputId": "44b1453d-eeea-4d3c-f306-6564fa782ea0"
      },
      "source": [
        "answered_df = petitions.loc[petitions['votes'] > 200000]\r\n",
        "print('답변 대상 청원: {}건'.format(answered_df.shape[0]))"
      ],
      "execution_count": null,
      "outputs": [
        {
          "output_type": "stream",
          "text": [
            "답변 대상 청원: 77건\n"
          ],
          "name": "stdout"
        }
      ]
    },
    {
      "cell_type": "code",
      "metadata": {
        "colab": {
          "base_uri": "https://localhost:8080/",
          "height": 824
        },
        "id": "k1LH1LJKPbfs",
        "outputId": "b17b02e0-b30a-4a55-d223-0747dc7c26aa"
      },
      "source": [
        "answered_df.head(3)"
      ],
      "execution_count": null,
      "outputs": [
        {
          "output_type": "execute_result",
          "data": {
            "text/html": [
              "<div>\n",
              "<style scoped>\n",
              "    .dataframe tbody tr th:only-of-type {\n",
              "        vertical-align: middle;\n",
              "    }\n",
              "\n",
              "    .dataframe tbody tr th {\n",
              "        vertical-align: top;\n",
              "    }\n",
              "\n",
              "    .dataframe thead th {\n",
              "        text-align: right;\n",
              "    }\n",
              "</style>\n",
              "<table border=\"1\" class=\"dataframe\">\n",
              "  <thead>\n",
              "    <tr style=\"text-align: right;\">\n",
              "      <th></th>\n",
              "      <th>start</th>\n",
              "      <th>end</th>\n",
              "      <th>answered</th>\n",
              "      <th>votes</th>\n",
              "      <th>category</th>\n",
              "      <th>title</th>\n",
              "      <th>content</th>\n",
              "      <th>answer</th>\n",
              "      <th>duration</th>\n",
              "    </tr>\n",
              "    <tr>\n",
              "      <th>article_id</th>\n",
              "      <th></th>\n",
              "      <th></th>\n",
              "      <th></th>\n",
              "      <th></th>\n",
              "      <th></th>\n",
              "      <th></th>\n",
              "      <th></th>\n",
              "      <th></th>\n",
              "      <th></th>\n",
              "    </tr>\n",
              "  </thead>\n",
              "  <tbody>\n",
              "    <tr>\n",
              "      <th>1785</th>\n",
              "      <td>2017-09-03</td>\n",
              "      <td>2017-11-02</td>\n",
              "      <td>1</td>\n",
              "      <td>296330</td>\n",
              "      <td>인권/성평등</td>\n",
              "      <td>청소년이란 이유로 보호법을 악용하는 잔인무도한 청소년들이 늘어나고있습니다. 반드시 ...</td>\n",
              "      <td>안녕하십니까. 청소년보호법이란 명목하에 나쁜짓을 일삼는 청소년들이 너무나 많아지고 ...</td>\n",
              "      <td>True</td>\n",
              "      <td>60 days</td>\n",
              "    </tr>\n",
              "    <tr>\n",
              "      <th>10949</th>\n",
              "      <td>2017-09-06</td>\n",
              "      <td>2017-12-05</td>\n",
              "      <td>1</td>\n",
              "      <td>615354</td>\n",
              "      <td>미래</td>\n",
              "      <td>조두순 출소반대</td>\n",
              "      <td>제발 조두순 재심다시해서 무기징역으로 해야됩니다!!!</td>\n",
              "      <td>True</td>\n",
              "      <td>90 days</td>\n",
              "    </tr>\n",
              "    <tr>\n",
              "      <th>18278</th>\n",
              "      <td>2017-09-30</td>\n",
              "      <td>2017-10-30</td>\n",
              "      <td>1</td>\n",
              "      <td>235372</td>\n",
              "      <td>인권/성평등</td>\n",
              "      <td>낙태죄 폐지와 자연유산 유도약(미프진) 합법화 및 도입을 부탁드립니다.</td>\n",
              "      <td>안녕하세요. 존경하는 대통령님 의원님\\n낙태죄 폐지를 청원합니다.\\n현재 대한민국은...</td>\n",
              "      <td>True</td>\n",
              "      <td>30 days</td>\n",
              "    </tr>\n",
              "  </tbody>\n",
              "</table>\n",
              "</div>"
            ],
            "text/plain": [
              "                start        end  ...  answer  duration\n",
              "article_id                        ...                  \n",
              "1785       2017-09-03 2017-11-02  ...    True   60 days\n",
              "10949      2017-09-06 2017-12-05  ...    True   90 days\n",
              "18278      2017-09-30 2017-10-30  ...    True   30 days\n",
              "\n",
              "[3 rows x 9 columns]"
            ]
          },
          "metadata": {
            "tags": []
          },
          "execution_count": 43
        }
      ]
    },
    {
      "cell_type": "markdown",
      "metadata": {
        "id": "h_0J5172PlA-"
      },
      "source": [
        "###답변 대상 청원 중 투표를 가장 많이 받은 청원"
      ]
    },
    {
      "cell_type": "code",
      "metadata": {
        "colab": {
          "base_uri": "https://localhost:8080/",
          "height": 1000
        },
        "id": "0htQwrylPeKL",
        "outputId": "08d77a9f-b1ad-440d-dfe6-bf10407435fc"
      },
      "source": [
        "answered_df.sort_values('votes', ascending=False).head(10)"
      ],
      "execution_count": null,
      "outputs": [
        {
          "output_type": "execute_result",
          "data": {
            "text/html": [
              "<div>\n",
              "<style scoped>\n",
              "    .dataframe tbody tr th:only-of-type {\n",
              "        vertical-align: middle;\n",
              "    }\n",
              "\n",
              "    .dataframe tbody tr th {\n",
              "        vertical-align: top;\n",
              "    }\n",
              "\n",
              "    .dataframe thead th {\n",
              "        text-align: right;\n",
              "    }\n",
              "</style>\n",
              "<table border=\"1\" class=\"dataframe\">\n",
              "  <thead>\n",
              "    <tr style=\"text-align: right;\">\n",
              "      <th></th>\n",
              "      <th>start</th>\n",
              "      <th>end</th>\n",
              "      <th>answered</th>\n",
              "      <th>votes</th>\n",
              "      <th>category</th>\n",
              "      <th>title</th>\n",
              "      <th>content</th>\n",
              "      <th>answer</th>\n",
              "      <th>duration</th>\n",
              "    </tr>\n",
              "    <tr>\n",
              "      <th>article_id</th>\n",
              "      <th></th>\n",
              "      <th></th>\n",
              "      <th></th>\n",
              "      <th></th>\n",
              "      <th></th>\n",
              "      <th></th>\n",
              "      <th></th>\n",
              "      <th></th>\n",
              "      <th></th>\n",
              "    </tr>\n",
              "  </thead>\n",
              "  <tbody>\n",
              "    <tr>\n",
              "      <th>408609</th>\n",
              "      <td>2018-10-17</td>\n",
              "      <td>2018-11-16</td>\n",
              "      <td>0</td>\n",
              "      <td>1192049</td>\n",
              "      <td>안전/환경</td>\n",
              "      <td>강서구 피시방 살인 사건. 또 심신미약 피의자입니다.</td>\n",
              "      <td>2018년 10월 14일 엊그제 일어난 강서구 피시방 살인사건에 대한 청원입니다.\\...</td>\n",
              "      <td>True</td>\n",
              "      <td>30 days</td>\n",
              "    </tr>\n",
              "    <tr>\n",
              "      <th>269548</th>\n",
              "      <td>2018-06-13</td>\n",
              "      <td>2018-07-13</td>\n",
              "      <td>0</td>\n",
              "      <td>714875</td>\n",
              "      <td>외교/통일/국방</td>\n",
              "      <td>제주도 불법 난민 신청 문제에 따른 난민법, 무사증 입국, 난민신청허가 폐지/개헌 ...</td>\n",
              "      <td>2012년 난민법 제정으로 인해 외국인은 한달 무비자로 입국할 수 있으나 난민신청자...</td>\n",
              "      <td>True</td>\n",
              "      <td>30 days</td>\n",
              "    </tr>\n",
              "    <tr>\n",
              "      <th>10949</th>\n",
              "      <td>2017-09-06</td>\n",
              "      <td>2017-12-05</td>\n",
              "      <td>1</td>\n",
              "      <td>615354</td>\n",
              "      <td>미래</td>\n",
              "      <td>조두순 출소반대</td>\n",
              "      <td>제발 조두순 재심다시해서 무기징역으로 해야됩니다!!!</td>\n",
              "      <td>True</td>\n",
              "      <td>90 days</td>\n",
              "    </tr>\n",
              "    <tr>\n",
              "      <th>142600</th>\n",
              "      <td>2018-02-19</td>\n",
              "      <td>2018-03-21</td>\n",
              "      <td>1</td>\n",
              "      <td>614127</td>\n",
              "      <td>문화/예술/체육/언론</td>\n",
              "      <td>김보름, 박지우 선수의 자격박탈과 적폐 빙상연맹의 엄중 처벌을 청원합니다</td>\n",
              "      <td>오늘 여자 단체전 팀추월에서 김보름, 박지우 선수는 팀전인데도 불구하고 개인의 영달...</td>\n",
              "      <td>True</td>\n",
              "      <td>30 days</td>\n",
              "    </tr>\n",
              "    <tr>\n",
              "      <th>230552</th>\n",
              "      <td>2018-05-11</td>\n",
              "      <td>2018-06-10</td>\n",
              "      <td>1</td>\n",
              "      <td>419006</td>\n",
              "      <td>인권/성평등</td>\n",
              "      <td>여성도 대한민국 국민입니다. 성별 관계없는 국가의 보호를 요청합니다.</td>\n",
              "      <td>최근 홍대 누드크로키 모델의 불법촬영 사건이 있었습니다.\\n사건은 굉장히 빠르게 처...</td>\n",
              "      <td>True</td>\n",
              "      <td>30 days</td>\n",
              "    </tr>\n",
              "    <tr>\n",
              "      <th>426834</th>\n",
              "      <td>2018-10-31</td>\n",
              "      <td>2018-11-30</td>\n",
              "      <td>0</td>\n",
              "      <td>416093</td>\n",
              "      <td>인권/성평등</td>\n",
              "      <td>132cm, 31kg의 왜소한 50대 여성이 180cm가 넘는 건장한 20세 남성에...</td>\n",
              "      <td>http://m.news1.kr/articles/?3464603\\n관련 기사입니다....</td>\n",
              "      <td>True</td>\n",
              "      <td>30 days</td>\n",
              "    </tr>\n",
              "    <tr>\n",
              "      <th>314584</th>\n",
              "      <td>2018-07-22</td>\n",
              "      <td>2018-08-21</td>\n",
              "      <td>0</td>\n",
              "      <td>413924</td>\n",
              "      <td>육아/교육</td>\n",
              "      <td>23개월 아기가 폭행에 장이 끊어져 죽었습니다.</td>\n",
              "      <td>고생하시는 청와대 관계자 및 대통령님.\\n이 글을 꼭 한번만 읽어주세요.\\n너무나 ...</td>\n",
              "      <td>True</td>\n",
              "      <td>30 days</td>\n",
              "    </tr>\n",
              "    <tr>\n",
              "      <th>395955</th>\n",
              "      <td>2018-10-02</td>\n",
              "      <td>2018-11-01</td>\n",
              "      <td>1</td>\n",
              "      <td>406655</td>\n",
              "      <td>교통/건축/국토</td>\n",
              "      <td>음주운전 교통사고로 친구 인생이 박살났습니다. 제발 도와주세요</td>\n",
              "      <td>9월 25일 새벽 2시 25분 경, 부산 해운대구 미포 오거리에서 술에 만취한 운전...</td>\n",
              "      <td>True</td>\n",
              "      <td>30 days</td>\n",
              "    </tr>\n",
              "    <tr>\n",
              "      <th>437737</th>\n",
              "      <td>2018-11-09</td>\n",
              "      <td>2018-12-09</td>\n",
              "      <td>0</td>\n",
              "      <td>397079</td>\n",
              "      <td>인권/성평등</td>\n",
              "      <td>억울하게 떠나신 저의 아버지의 원한을 풀어주세요</td>\n",
              "      <td>46일동안 눈 한번 뜨시지 못한 채 11월 6일 새벽 4시에 저의 아버지가 억울하게...</td>\n",
              "      <td>True</td>\n",
              "      <td>30 days</td>\n",
              "    </tr>\n",
              "    <tr>\n",
              "      <th>442093</th>\n",
              "      <td>2018-11-14</td>\n",
              "      <td>2018-12-14</td>\n",
              "      <td>0</td>\n",
              "      <td>365418</td>\n",
              "      <td>인권/성평등</td>\n",
              "      <td>이수역 폭행사건</td>\n",
              "      <td>11월 13일 새벽4시 경 이수역의 한 맥주집에서 남자 다섯명이 여성 두 명을 폭행...</td>\n",
              "      <td>True</td>\n",
              "      <td>30 days</td>\n",
              "    </tr>\n",
              "  </tbody>\n",
              "</table>\n",
              "</div>"
            ],
            "text/plain": [
              "                start        end  ...  answer  duration\n",
              "article_id                        ...                  \n",
              "408609     2018-10-17 2018-11-16  ...    True   30 days\n",
              "269548     2018-06-13 2018-07-13  ...    True   30 days\n",
              "10949      2017-09-06 2017-12-05  ...    True   90 days\n",
              "142600     2018-02-19 2018-03-21  ...    True   30 days\n",
              "230552     2018-05-11 2018-06-10  ...    True   30 days\n",
              "426834     2018-10-31 2018-11-30  ...    True   30 days\n",
              "314584     2018-07-22 2018-08-21  ...    True   30 days\n",
              "395955     2018-10-02 2018-11-01  ...    True   30 days\n",
              "437737     2018-11-09 2018-12-09  ...    True   30 days\n",
              "442093     2018-11-14 2018-12-14  ...    True   30 days\n",
              "\n",
              "[10 rows x 9 columns]"
            ]
          },
          "metadata": {
            "tags": []
          },
          "execution_count": 44
        }
      ]
    },
    {
      "cell_type": "markdown",
      "metadata": {
        "id": "t8ANb_A2PyWe"
      },
      "source": [
        "#시각화"
      ]
    },
    {
      "cell_type": "markdown",
      "metadata": {
        "id": "eSN-GCGEP7tu"
      },
      "source": [
        "###시각화를 위한 한글폰트 설치"
      ]
    },
    {
      "cell_type": "code",
      "metadata": {
        "colab": {
          "base_uri": "https://localhost:8080/"
        },
        "id": "V7Uf7j_LPvZq",
        "outputId": "6ceb8e82-c7e6-4b7d-ee73-ff7c09c2286a"
      },
      "source": [
        "#그래프에 retina display 적용\r\n",
        "%config inlineBackend.figure_format = 'retina'\r\n",
        "\r\n",
        "#나눔고딕 설치\r\n",
        "!apt -qq -y install fonts-nanum > /dev/null\r\n",
        "import matplotlib.font_manager as fm\r\n",
        "fontpath = '/usr/share/fonts/truetype/nanum/NanumBarunGothic.ttf'\r\n",
        "font = fm.FontProperties(fname=fontpath, size=9)"
      ],
      "execution_count": null,
      "outputs": [
        {
          "output_type": "stream",
          "text": [
            "\n",
            "WARNING: apt does not have a stable CLI interface. Use with caution in scripts.\n",
            "\n"
          ],
          "name": "stdout"
        }
      ]
    },
    {
      "cell_type": "code",
      "metadata": {
        "id": "WkiNC_hNQQLI"
      },
      "source": [
        "#기본 글꼴 변경\r\n",
        "import matplotlib as mpl\r\n",
        "mpl.font_manager._rebuild()\r\n",
        "mpl.pyplot.rc('font', family='NanumBarunGothic')"
      ],
      "execution_count": null,
      "outputs": []
    },
    {
      "cell_type": "code",
      "metadata": {
        "colab": {
          "base_uri": "https://localhost:8080/",
          "height": 520
        },
        "id": "g44CLgBxQgav",
        "outputId": "f4c5d0b3-a809-4e12-fc3f-7255fb886b50"
      },
      "source": [
        "(ggplot(petitions)\r\n",
        "  + aes('category')\r\n",
        "  + geom_bar(fill='green')\r\n",
        "  + theme(text=element_text(family='NanumBarunGothic'),\r\n",
        "            axis_text_x=element_text(rotation=60))\r\n",
        ")"
      ],
      "execution_count": null,
      "outputs": [
        {
          "output_type": "display_data",
          "data": {
            "image/png": "[encoded data removed]",
            "text/plain": [
              "<Figure size 640x480 with 1 Axes>"
            ]
          },
          "metadata": {
            "tags": []
          }
        },
        {
          "output_type": "execute_result",
          "data": {
            "text/plain": [
              "<ggplot: (-9223363285508129557)>"
            ]
          },
          "metadata": {
            "tags": []
          },
          "execution_count": 52
        }
      ]
    },
    {
      "cell_type": "code",
      "metadata": {
        "id": "cvjlOS1ORCTh"
      },
      "source": [
        ""
      ],
      "execution_count": null,
      "outputs": []
    }
  ]
}